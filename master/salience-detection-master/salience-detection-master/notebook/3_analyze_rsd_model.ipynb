{
 "cells": [
  {
   "cell_type": "markdown",
   "metadata": {
    "collapsed": true
   },
   "source": [
    "# Analyze RSD (Relevant Sentence Detection) model\n",
    "\n",
    "With the fully trained Relevant Sentence model, it is now possible to examine which salient entities are missed when filtering out irrelevant sentences. What is the trade-off and how can the trade-off be controlled such that the salient entities are not missed?"
   ]
  },
  {
   "cell_type": "code",
   "execution_count": 21,
   "metadata": {},
   "outputs": [],
   "source": [
    "import sys\n",
    "sys.path.append('..')\n",
    "\n",
    "import nltk\n",
    "import numpy as np\n",
    "from model.relevant_sentence import RSD\n",
    "from chainer.serializers import load_npz\n",
    "from util.text import word_to_hash"
   ]
  },
  {
   "cell_type": "markdown",
   "metadata": {},
   "source": [
    "Now the model is loaded from disk."
   ]
  },
  {
   "cell_type": "code",
   "execution_count": 83,
   "metadata": {
    "collapsed": true
   },
   "outputs": [],
   "source": [
    "vocab_size = 10000\n",
    "model = RSD(vocab_size, 64, 64)\n",
    "load_npz('C:\\\\Users\\\\kevjac\\\\Desktop\\\\thesis_data\\\\rsd\\\\out\\\\model.npz', model)\n",
    "\n",
    "def sentence_to_features(sentence):\n",
    "    return [word_to_hash(word, vocab_size) for word in nltk.word_tokenize(sentence)]"
   ]
  },
  {
   "cell_type": "markdown",
   "metadata": {},
   "source": [
    "A simple function is created to visualize a text such that relevant sentences are colored green and non-relevant sentences are colored red."
   ]
  },
  {
   "cell_type": "code",
   "execution_count": 168,
   "metadata": {
    "scrolled": false
   },
   "outputs": [],
   "source": [
    "from IPython.core.display import display, HTML\n",
    "\n",
    "def visualize_text(text):\n",
    "    sentences = nltk.sent_tokenize(text)\n",
    "    xs = [sentence_to_features(sent) for sent in sentences]\n",
    "    scores = model.predict(xs).data\n",
    "    is_relevant = np.argmax(scores, axis=1)\n",
    "    best_scores = np.max(scores, axis=1)\n",
    "    relevance_scores = scores[:, 1]\n",
    "    for r, s1, s2, sent in zip(is_relevant, best_scores, relevance_scores, sentences):\n",
    "        if s2 > 0.5:\n",
    "            c_r, c_g, c_b = 0, int(155 * (s2 - 0.5) * 2.0 + 100), 0\n",
    "            before, after = '<b>', '</b>'\n",
    "        else:\n",
    "            c_r, c_g, c_b = int(155 * (1. - 2. * s2) + 100), 100, 100\n",
    "            before, after = '', ''\n",
    "        display(HTML('%.1f %s<span style=\"color: rgb(%d, %d, %d);\">%s<span>%s' % (s2, before, c_r, c_g, c_b, sent, after)))"
   ]
  },
  {
   "cell_type": "markdown",
   "metadata": {},
   "source": [
    "One of the test documents is evaluated and visualized using the model. The scores are the relevance scores. A relevance score of $0.0$ means non-relevant, a relevance score of $0.5$ means confusing and a relevance score of $1.0$ means absolutely relevant."
   ]
  },
  {
   "cell_type": "code",
   "execution_count": 169,
   "metadata": {},
   "outputs": [
    {
     "name": "stdout",
     "output_type": "stream",
     "text": [
      "Abstract\n",
      "----------------------------------------------------------------------------------------------------\n",
      "Ronnie Lowenstein heads New York City's Independent Budget Office; office has no policy-making role but provides nonpartisan budget, economic and policy analyses to elected officials and New Yorkers; photo (M)\n",
      "\n",
      "Text\n",
      "----------------------------------------------------------------------------------------------------\n"
     ]
    },
    {
     "data": {
      "text/html": [
       "0.9 <b><span style=\"color: rgb(0, 220, 0);\">She cautioned against diverting budget surpluses to increase spending, suggested some tax increases, warned how much the unpopular Fresh Kills landfill would cost to close and even raised the possibility of imposing tolls on the free East River bridges -- all issues that most politicians would shun.<span></b>"
      ],
      "text/plain": [
       "<IPython.core.display.HTML object>"
      ]
     },
     "metadata": {},
     "output_type": "display_data"
    },
    {
     "data": {
      "text/html": [
       "0.3 <span style=\"color: rgb(165, 100, 100);\">And yet, last month Ronnie Lowenstein was not only re-elected, but also won unanimously.<span>"
      ],
      "text/plain": [
       "<IPython.core.display.HTML object>"
      ]
     },
     "metadata": {},
     "output_type": "display_data"
    },
    {
     "data": {
      "text/html": [
       "0.6 <b><span style=\"color: rgb(0, 126, 0);\">In the decade under Ronnie Lowenstein’s leadership, political leaders and watchdogs say that the Independent Budget Office has proven itself.<span></b>"
      ],
      "text/plain": [
       "<IPython.core.display.HTML object>"
      ]
     },
     "metadata": {},
     "output_type": "display_data"
    },
    {
     "data": {
      "text/html": [
       "0.9 <b><span style=\"color: rgb(0, 220, 0);\">She cautioned against diverting budget surpluses to increase spending, suggested some tax increases, warned how much the unpopular Fresh Kills landfill would cost to close and even raised the possibility of imposing tolls on the free East River bridges -- all issues that most politicians would shun.<span></b>"
      ],
      "text/plain": [
       "<IPython.core.display.HTML object>"
      ]
     },
     "metadata": {},
     "output_type": "display_data"
    },
    {
     "data": {
      "text/html": [
       "0.3 <span style=\"color: rgb(165, 100, 100);\">And yet, last month Ronnie Lowenstein was not only re-elected, but also won unanimously.<span>"
      ],
      "text/plain": [
       "<IPython.core.display.HTML object>"
      ]
     },
     "metadata": {},
     "output_type": "display_data"
    },
    {
     "data": {
      "text/html": [
       "0.0 <span style=\"color: rgb(242, 100, 100);\">''Winning an election with four votes is no small thing,'' she said.<span>"
      ],
      "text/plain": [
       "<IPython.core.display.HTML object>"
      ]
     },
     "metadata": {},
     "output_type": "display_data"
    },
    {
     "data": {
      "text/html": [
       "0.7 <b><span style=\"color: rgb(0, 156, 0);\">Ms. Lowenstein, a 55-year-old economist, was reappointed as director of New York City's Independent Budget Office.<span></b>"
      ],
      "text/plain": [
       "<IPython.core.display.HTML object>"
      ]
     },
     "metadata": {},
     "output_type": "display_data"
    },
    {
     "data": {
      "text/html": [
       "0.3 <span style=\"color: rgb(155, 100, 100);\">When the office was created 10 years ago, some city officials dismissed the position as another redundant municipal agency.<span>"
      ],
      "text/plain": [
       "<IPython.core.display.HTML object>"
      ]
     },
     "metadata": {},
     "output_type": "display_data"
    },
    {
     "data": {
      "text/html": [
       "0.4 <span style=\"color: rgb(145, 100, 100);\">But in the decade under Ms. Lowenstein's leadership, the office has proved itself, political leaders and nonprofit watchdog groups say.<span>"
      ],
      "text/plain": [
       "<IPython.core.display.HTML object>"
      ]
     },
     "metadata": {},
     "output_type": "display_data"
    },
    {
     "data": {
      "text/html": [
       "0.1 <span style=\"color: rgb(238, 100, 100);\">''If there were any concerns that existed before, I think they have been dispelled,'' Comptroller William C. Thompson Jr. said.<span>"
      ],
      "text/plain": [
       "<IPython.core.display.HTML object>"
      ]
     },
     "metadata": {},
     "output_type": "display_data"
    },
    {
     "data": {
      "text/html": [
       "0.2 <span style=\"color: rgb(190, 100, 100);\">''An extra set of eyes is always helpful.''<span>"
      ],
      "text/plain": [
       "<IPython.core.display.HTML object>"
      ]
     },
     "metadata": {},
     "output_type": "display_data"
    },
    {
     "data": {
      "text/html": [
       "0.8 <b><span style=\"color: rgb(0, 190, 0);\">Ms. Lowenstein joined the office in 1996 from the Federal Reserve Bank of New York and in 2000 was named director to fill out her predecessor's unexpired term.<span></b>"
      ],
      "text/plain": [
       "<IPython.core.display.HTML object>"
      ]
     },
     "metadata": {},
     "output_type": "display_data"
    },
    {
     "data": {
      "text/html": [
       "0.8 <b><span style=\"color: rgb(0, 193, 0);\">Reappointed in 2002, she has just been named to a second four-year term by Mr. Thompson; Public Advocate Betsy Gotbaum; Christine C. Quinn, the City Council speaker; and Helen M. Marshall of Queens on behalf of her fellow borough presidents.<span></b>"
      ],
      "text/plain": [
       "<IPython.core.display.HTML object>"
      ]
     },
     "metadata": {},
     "output_type": "display_data"
    },
    {
     "data": {
      "text/html": [
       "0.3 <span style=\"color: rgb(150, 100, 100);\">Ms. Lowenstein has sought to be scrupulously neutral, even switching her voter registration from Democrat to independent (which, she acknowledged, virtually disenfranchised her in her heavily Democratic Manhattan neighborhood).<span>"
      ],
      "text/plain": [
       "<IPython.core.display.HTML object>"
      ]
     },
     "metadata": {},
     "output_type": "display_data"
    },
    {
     "data": {
      "text/html": [
       "0.3 <span style=\"color: rgb(172, 100, 100);\">''They don't have an ax to grind,'' said Gene Russianoff, staff lawyer for the Straphangers Campaign, an advocacy group, referring to the budget office staff.<span>"
      ],
      "text/plain": [
       "<IPython.core.display.HTML object>"
      ]
     },
     "metadata": {},
     "output_type": "display_data"
    },
    {
     "data": {
      "text/html": [
       "0.3 <span style=\"color: rgb(149, 100, 100);\">Ms. Lowenstein's hope has been to position the office as honest broker in the budget debate.<span>"
      ],
      "text/plain": [
       "<IPython.core.display.HTML object>"
      ]
     },
     "metadata": {},
     "output_type": "display_data"
    },
    {
     "data": {
      "text/html": [
       "0.6 <b><span style=\"color: rgb(0, 120, 0);\">The office has no policy-making role but provides nonpartisan budget, economic and policy analyses to elected officials and to New Yorkers.<span></b>"
      ],
      "text/plain": [
       "<IPython.core.display.HTML object>"
      ]
     },
     "metadata": {},
     "output_type": "display_data"
    },
    {
     "data": {
      "text/html": [
       "0.0 <span style=\"color: rgb(249, 100, 100);\">''It takes a long time to build credibility,'' she said.<span>"
      ],
      "text/plain": [
       "<IPython.core.display.HTML object>"
      ]
     },
     "metadata": {},
     "output_type": "display_data"
    },
    {
     "data": {
      "text/html": [
       "0.0 <span style=\"color: rgb(250, 100, 100);\">''You're only as good as your last report.''<span>"
      ],
      "text/plain": [
       "<IPython.core.display.HTML object>"
      ]
     },
     "metadata": {},
     "output_type": "display_data"
    },
    {
     "data": {
      "text/html": [
       "0.2 <span style=\"color: rgb(197, 100, 100);\">''The boring people like me thought we should be doing research that didn't take policy positions but just informed the debate,'' she said in an interview last week.<span>"
      ],
      "text/plain": [
       "<IPython.core.display.HTML object>"
      ]
     },
     "metadata": {},
     "output_type": "display_data"
    },
    {
     "data": {
      "text/html": [
       "0.0 <span style=\"color: rgb(250, 100, 100);\">''Initially, we really didn't know who our audience was.<span>"
      ],
      "text/plain": [
       "<IPython.core.display.HTML object>"
      ]
     },
     "metadata": {},
     "output_type": "display_data"
    },
    {
     "data": {
      "text/html": [
       "0.0 <span style=\"color: rgb(246, 100, 100);\">We were so technical that we were virtually incomprehensible.<span>"
      ],
      "text/plain": [
       "<IPython.core.display.HTML object>"
      ]
     },
     "metadata": {},
     "output_type": "display_data"
    },
    {
     "data": {
      "text/html": [
       "0.2 <span style=\"color: rgb(187, 100, 100);\">It took us a long time to take sophisticated research and translate it in ways that made it accessible.''<span>"
      ],
      "text/plain": [
       "<IPython.core.display.HTML object>"
      ]
     },
     "metadata": {},
     "output_type": "display_data"
    },
    {
     "data": {
      "text/html": [
       "0.8 <b><span style=\"color: rgb(0, 182, 0);\">By most accounts, the office succeeded, in its published and Web site versions of reports, analyses of budget options and fiscal overview.<span></b>"
      ],
      "text/plain": [
       "<IPython.core.display.HTML object>"
      ]
     },
     "metadata": {},
     "output_type": "display_data"
    },
    {
     "data": {
      "text/html": [
       "0.3 <span style=\"color: rgb(177, 100, 100);\">After early challenges from the Giuliani administration, she said, relations with the Bloomberg administration ''have taken another quantum step forward.''<span>"
      ],
      "text/plain": [
       "<IPython.core.display.HTML object>"
      ]
     },
     "metadata": {},
     "output_type": "display_data"
    },
    {
     "data": {
      "text/html": [
       "0.1 <span style=\"color: rgb(231, 100, 100);\">''I admit I was one of those people who said we don't need another fiscal monitor,'' she said.<span>"
      ],
      "text/plain": [
       "<IPython.core.display.HTML object>"
      ]
     },
     "metadata": {},
     "output_type": "display_data"
    },
    {
     "data": {
      "text/html": [
       "0.6 <b><span style=\"color: rgb(0, 120, 0);\">''Our goal was to become everyone's first source for objective information on taxes and budget, and I think we've done that.<span></b>"
      ],
      "text/plain": [
       "<IPython.core.display.HTML object>"
      ]
     },
     "metadata": {},
     "output_type": "display_data"
    },
    {
     "data": {
      "text/html": [
       "0.2 <span style=\"color: rgb(183, 100, 100);\">We're able to take on a broader range of topics that an elected official just won't touch and lay out the alternatives.<span>"
      ],
      "text/plain": [
       "<IPython.core.display.HTML object>"
      ]
     },
     "metadata": {},
     "output_type": "display_data"
    },
    {
     "data": {
      "text/html": [
       "0.1 <span style=\"color: rgb(210, 100, 100);\">Even though we don't advocate for change, those are uncomfortable things to be saying if you're an elected official.''<span>"
      ],
      "text/plain": [
       "<IPython.core.display.HTML object>"
      ]
     },
     "metadata": {},
     "output_type": "display_data"
    },
    {
     "data": {
      "text/html": [
       "0.6 <b><span style=\"color: rgb(0, 135, 0);\">The City Charter guarantees the office at least 10 percent of the money allotted to the mayor's Office of Management and Budget.<span></b>"
      ],
      "text/plain": [
       "<IPython.core.display.HTML object>"
      ]
     },
     "metadata": {},
     "output_type": "display_data"
    },
    {
     "data": {
      "text/html": [
       "0.0 <span style=\"color: rgb(249, 100, 100);\">''That has been a huge factor in keeping us independent,'' she said.<span>"
      ],
      "text/plain": [
       "<IPython.core.display.HTML object>"
      ]
     },
     "metadata": {},
     "output_type": "display_data"
    },
    {
     "data": {
      "text/html": [
       "0.0 <span style=\"color: rgb(249, 100, 100);\">''We've never gotten a penny more than that.''<span>"
      ],
      "text/plain": [
       "<IPython.core.display.HTML object>"
      ]
     },
     "metadata": {},
     "output_type": "display_data"
    },
    {
     "data": {
      "text/html": [
       "0.8 <b><span style=\"color: rgb(0, 198, 0);\">She cited suggestions that with additional resources, her office might delve more into measuring municipal performance, perhaps even compiling the indicators that now constitute the mayor's periodic management report.<span></b>"
      ],
      "text/plain": [
       "<IPython.core.display.HTML object>"
      ]
     },
     "metadata": {},
     "output_type": "display_data"
    },
    {
     "data": {
      "text/html": [
       "0.0 <span style=\"color: rgb(248, 100, 100);\">''If that were given to us, would we do it well?<span>"
      ],
      "text/plain": [
       "<IPython.core.display.HTML object>"
      ]
     },
     "metadata": {},
     "output_type": "display_data"
    },
    {
     "data": {
      "text/html": [
       "0.1 <span style=\"color: rgb(220, 100, 100);\">Yes,'' she said, but added in her typically noncommittal way, ''Does that mean it should be?<span>"
      ],
      "text/plain": [
       "<IPython.core.display.HTML object>"
      ]
     },
     "metadata": {},
     "output_type": "display_data"
    },
    {
     "data": {
      "text/html": [
       "0.0 <span style=\"color: rgb(247, 100, 100);\">Not necessarily.''<span>"
      ],
      "text/plain": [
       "<IPython.core.display.HTML object>"
      ]
     },
     "metadata": {},
     "output_type": "display_data"
    },
    {
     "data": {
      "text/html": [
       "0.8 <b><span style=\"color: rgb(0, 196, 0);\">Another of Ms. Lowenstein's goals is to make the municipal budget more transparent so government officials and citizens alike can easily determine how much the city is spending for, say, housing homeless women and how the amount compares with that of other periods.<span></b>"
      ],
      "text/plain": [
       "<IPython.core.display.HTML object>"
      ]
     },
     "metadata": {},
     "output_type": "display_data"
    },
    {
     "data": {
      "text/html": [
       "0.8 <b><span style=\"color: rgb(0, 197, 0);\">In 2007, she said, the challenge for the city will be how to deal with an embarrassment of riches, which can pose more challenges than a deficit because of pressures to cut taxes, increase spending or take less politically popular steps to reduce the city's long-term debt.<span></b>"
      ],
      "text/plain": [
       "<IPython.core.display.HTML object>"
      ]
     },
     "metadata": {},
     "output_type": "display_data"
    },
    {
     "data": {
      "text/html": [
       "0.7 <b><span style=\"color: rgb(0, 162, 0);\">''The city is in stronger fiscal shape than it has been for a long time,'' she said, ''but it would appear that longer term, those budget gaps haven't gone away.<span></b>"
      ],
      "text/plain": [
       "<IPython.core.display.HTML object>"
      ]
     },
     "metadata": {},
     "output_type": "display_data"
    },
    {
     "data": {
      "text/html": [
       "0.2 <span style=\"color: rgb(187, 100, 100);\">In the short term, the debate will be how to handle a surplus.<span>"
      ],
      "text/plain": [
       "<IPython.core.display.HTML object>"
      ]
     },
     "metadata": {},
     "output_type": "display_data"
    },
    {
     "data": {
      "text/html": [
       "0.1 <span style=\"color: rgb(233, 100, 100);\">It's often the most contentious.''<span>"
      ],
      "text/plain": [
       "<IPython.core.display.HTML object>"
      ]
     },
     "metadata": {},
     "output_type": "display_data"
    }
   ],
   "source": [
    "import os\n",
    "import json\n",
    "\n",
    "input_path = \"C:\\\\Users\\\\kevjac\\\\Desktop\\\\thesis_data\\\\esd\\\\0_raw_text\\\\eval\"\n",
    "files = os.listdir(input_path)[100:]\n",
    "for file in files:\n",
    "    path = os.path.join(input_path, file)\n",
    "    with open(path, 'r') as input_file:\n",
    "        data = json.load(input_file)\n",
    "        \n",
    "    print('Abstract')\n",
    "    print('-' * 100)\n",
    "    print(data['abstract'])\n",
    "    print()\n",
    "    \n",
    "    print('Text')\n",
    "    print('-' * 100)\n",
    "    visualize_text(data['text'])\n",
    "    break"
   ]
  },
  {
   "cell_type": "markdown",
   "metadata": {},
   "source": [
    "## Distribution of relevance score\n",
    "\n",
    "In this section, the distribution of the relevance scores is computed."
   ]
  },
  {
   "cell_type": "markdown",
   "metadata": {},
   "source": [
    "### Relevance score for text sentences\n",
    "\n",
    "This section examines the relevance score for sentences found in the texts."
   ]
  },
  {
   "cell_type": "code",
   "execution_count": 120,
   "metadata": {},
   "outputs": [],
   "source": [
    "files = os.listdir(input_path)[:100]\n",
    "scores = []\n",
    "for file in files:\n",
    "    path = os.path.join(input_path, file)\n",
    "    with open(path, 'r') as input_file:\n",
    "        data = json.load(input_file)\n",
    "    sents = nltk.sent_tokenize(data['text'])\n",
    "    xs = [sentence_to_features(sent) for sent in sents]\n",
    "    sents_scores = model.predict(xs)[:, 1].data.tolist()\n",
    "    scores.extend(sents_scores)"
   ]
  },
  {
   "cell_type": "code",
   "execution_count": 123,
   "metadata": {},
   "outputs": [
    {
     "data": {
      "text/plain": [
       "<matplotlib.text.Text at 0x219d1b669b0>"
      ]
     },
     "execution_count": 123,
     "metadata": {},
     "output_type": "execute_result"
    },
    {
     "data": {
      "image/png": "[encoded data removed]",
      "text/plain": [
       "<matplotlib.figure.Figure at 0x219d038c630>"
      ]
     },
     "metadata": {},
     "output_type": "display_data"
    }
   ],
   "source": [
    "import matplotlib.pyplot as plt\n",
    "% matplotlib inline\n",
    "\n",
    "plt.hist(scores, normed=True)\n",
    "plt.title('Distribution of relevance scores over text sentences')\n",
    "plt.xlabel('Relevance score')\n",
    "plt.ylabel('Frequency')"
   ]
  },
  {
   "cell_type": "markdown",
   "metadata": {},
   "source": [
    "It can be seen that most of the sentences are marked as non-relevant. There is a broad class of sentences that is classified as confusing (with a relevance score of approximately $0.5$)."
   ]
  },
  {
   "cell_type": "markdown",
   "metadata": {},
   "source": [
    "### Relevance score for abstract sentences\n",
    "\n",
    "It would be interesting to see how the model classifies sentences in the abstract. These should all be relevant. This section examines the distribution of relevance scores on abstract sentences."
   ]
  },
  {
   "cell_type": "code",
   "execution_count": 124,
   "metadata": {
    "collapsed": true
   },
   "outputs": [],
   "source": [
    "files = os.listdir(input_path)[:100]\n",
    "scores = []\n",
    "for file in files:\n",
    "    path = os.path.join(input_path, file)\n",
    "    with open(path, 'r') as input_file:\n",
    "        data = json.load(input_file)\n",
    "    sents = nltk.sent_tokenize(data['abstract'])\n",
    "    xs = [sentence_to_features(sent) for sent in sents]\n",
    "    sents_scores = model.predict(xs)[:, 1].data.tolist()\n",
    "    scores.extend(sents_scores)"
   ]
  },
  {
   "cell_type": "code",
   "execution_count": 125,
   "metadata": {},
   "outputs": [
    {
     "data": {
      "text/plain": [
       "<matplotlib.text.Text at 0x219d2e2ec50>"
      ]
     },
     "execution_count": 125,
     "metadata": {},
     "output_type": "execute_result"
    },
    {
     "data": {
      "image/png": "[encoded data removed]",
      "text/plain": [
       "<matplotlib.figure.Figure at 0x219d1c185c0>"
      ]
     },
     "metadata": {},
     "output_type": "display_data"
    }
   ],
   "source": [
    "import matplotlib.pyplot as plt\n",
    "% matplotlib inline\n",
    "\n",
    "plt.hist(scores, normed=True)\n",
    "plt.title('Distribution of relevance scores over abstract sentences')\n",
    "plt.xlabel('Relevance score')\n",
    "plt.ylabel('Frequency')"
   ]
  },
  {
   "cell_type": "markdown",
   "metadata": {},
   "source": [
    "As expected, the majority of sentences found in the abstracts are classified as a relevant sentences."
   ]
  },
  {
   "cell_type": "markdown",
   "metadata": {},
   "source": [
    "## Relevance score versus recall of salient entities"
   ]
  },
  {
   "cell_type": "code",
   "execution_count": 163,
   "metadata": {},
   "outputs": [
    {
     "data": {
      "image/png": "[encoded data removed]",
      "text/plain": [
       "<matplotlib.figure.Figure at 0x219d3fc1e10>"
      ]
     },
     "metadata": {},
     "output_type": "display_data"
    }
   ],
   "source": [
    "files = os.listdir(input_path)[:100]\n",
    "scores = []\n",
    "contained = []\n",
    "for file in files:\n",
    "    path = os.path.join(input_path, file)\n",
    "    with open(path, 'r') as input_file:\n",
    "        data = json.load(input_file)\n",
    "    sents = nltk.sent_tokenize(data['text'])\n",
    "    xs = [sentence_to_features(sent) for sent in sents]\n",
    "    sents_scores = model.predict(xs)[:, 1].data.tolist()\n",
    "    salient_entities = [entity['entity'] for entity in data['entities'] if entity['salience']]\n",
    "    sent_contains_salient_entity = []\n",
    "    for sent_index, sent in enumerate(sents):\n",
    "        for entity in salient_entities:\n",
    "            if entity.lower() in sent.lower():\n",
    "                sent_contains_salient_entity.append(1)\n",
    "            else:\n",
    "                sent_contains_salient_entity.append(0)\n",
    "            scores.append(sents_scores[sent_index])\n",
    "    contained.extend(sent_contains_salient_entity)\n",
    "\n",
    "x_data = []\n",
    "y_data = []\n",
    "for x in np.linspace(0., 1., 100 + 1):\n",
    "    indices = [index for index, score in enumerate(scores) if score >= x]\n",
    "    hits = sum([contained[index] for index in indices])\n",
    "    total = sum(contained)\n",
    "    recall = float(hits) / float(total)\n",
    "    x_data.append(x)\n",
    "    y_data.append(recall)\n",
    "\n",
    "plt.scatter(x_data, y_data)\n",
    "plt.title('Relevance score - salient entity recall trade-off')\n",
    "plt.xlabel('Relevance score')\n",
    "plt.ylabel('Salient entity recall')\n",
    "\n",
    "x_data_recall = x_data\n",
    "y_data_recall = y_data"
   ]
  },
  {
   "cell_type": "markdown",
   "metadata": {},
   "source": [
    "The higher the relevance score, the lower the salient entity recall."
   ]
  },
  {
   "cell_type": "markdown",
   "metadata": {},
   "source": [
    "## Relevance score versus compression rate"
   ]
  },
  {
   "cell_type": "code",
   "execution_count": 164,
   "metadata": {},
   "outputs": [
    {
     "data": {
      "image/png": "[encoded data removed]",
      "text/plain": [
       "<matplotlib.figure.Figure at 0x219d4f14be0>"
      ]
     },
     "metadata": {},
     "output_type": "display_data"
    }
   ],
   "source": [
    "files = os.listdir(input_path)[:100]\n",
    "scores = []\n",
    "contained = []\n",
    "for file in files:\n",
    "    path = os.path.join(input_path, file)\n",
    "    with open(path, 'r') as input_file:\n",
    "        data = json.load(input_file)\n",
    "    sents = nltk.sent_tokenize(data['text'])\n",
    "    xs = [sentence_to_features(sent) for sent in sents]\n",
    "    sents_scores = model.predict(xs)[:, 1].data.tolist()\n",
    "    scores.extend(sents_scores)\n",
    "    \n",
    "x_data = []\n",
    "y_data = []\n",
    "for x in np.linspace(0., 1., 100 + 1):\n",
    "    num_sentences = len([score for score in scores if score <= x])\n",
    "    total_sentences = len(scores)\n",
    "    compression_rate = float(num_sentences) / float(total_sentences)\n",
    "    x_data.append(x)\n",
    "    y_data.append(compression_rate)\n",
    "    \n",
    "plt.scatter(x_data, y_data)\n",
    "plt.title('Relevance score - compression rate trade-off')\n",
    "plt.xlabel('Relevance score')\n",
    "plt.ylabel('Compression rate')\n",
    "\n",
    "x_data_compression = x_data\n",
    "y_data_compression = y_data"
   ]
  },
  {
   "cell_type": "markdown",
   "metadata": {},
   "source": [
    "There is almost a linear relation between the relevance score and the compression rate. It is interesting to choose a relevance score such that the compression rate is high and the salient entity recall is high."
   ]
  },
  {
   "cell_type": "code",
   "execution_count": 166,
   "metadata": {},
   "outputs": [
    {
     "data": {
      "text/html": [
       "<div>\n",
       "<style>\n",
       "    .dataframe thead tr:only-child th {\n",
       "        text-align: right;\n",
       "    }\n",
       "\n",
       "    .dataframe thead th {\n",
       "        text-align: left;\n",
       "    }\n",
       "\n",
       "    .dataframe tbody tr th {\n",
       "        vertical-align: top;\n",
       "    }\n",
       "</style>\n",
       "<table border=\"1\" class=\"dataframe\">\n",
       "  <thead>\n",
       "    <tr style=\"text-align: right;\">\n",
       "      <th></th>\n",
       "      <th>relevance</th>\n",
       "      <th>recall</th>\n",
       "      <th>compression</th>\n",
       "    </tr>\n",
       "  </thead>\n",
       "  <tbody>\n",
       "    <tr>\n",
       "      <th>41</th>\n",
       "      <td>0.41</td>\n",
       "      <td>0.828412</td>\n",
       "      <td>0.510811</td>\n",
       "    </tr>\n",
       "    <tr>\n",
       "      <th>42</th>\n",
       "      <td>0.42</td>\n",
       "      <td>0.825219</td>\n",
       "      <td>0.518548</td>\n",
       "    </tr>\n",
       "    <tr>\n",
       "      <th>43</th>\n",
       "      <td>0.43</td>\n",
       "      <td>0.814046</td>\n",
       "      <td>0.528070</td>\n",
       "    </tr>\n",
       "    <tr>\n",
       "      <th>44</th>\n",
       "      <td>0.44</td>\n",
       "      <td>0.803671</td>\n",
       "      <td>0.538385</td>\n",
       "    </tr>\n",
       "  </tbody>\n",
       "</table>\n",
       "</div>"
      ],
      "text/plain": [
       "    relevance    recall  compression\n",
       "41       0.41  0.828412     0.510811\n",
       "42       0.42  0.825219     0.518548\n",
       "43       0.43  0.814046     0.528070\n",
       "44       0.44  0.803671     0.538385"
      ]
     },
     "execution_count": 166,
     "metadata": {},
     "output_type": "execute_result"
    }
   ],
   "source": [
    "import pandas as pd\n",
    "\n",
    "rows = []\n",
    "for i, x in enumerate(np.linspace(0., 1., 100 + 1)):\n",
    "    rows.append([x, y_data_recall[i], y_data_compression[i]])\n",
    "df = pd.DataFrame(rows, columns=['relevance', 'recall', 'compression'])\n",
    "\n",
    "df[(df['recall'] > 0.8) & (df['compression'] > 0.5)]"
   ]
  },
  {
   "cell_type": "markdown",
   "metadata": {},
   "source": [
    "## Conclusion\n",
    "\n",
    "So, a relevance score of approximately $0.4$ achieves a compression rate of $0.5$ and a salient entity recall of $0.8$."
   ]
  },
  {
   "cell_type": "code",
   "execution_count": null,
   "metadata": {
    "collapsed": true
   },
   "outputs": [],
   "source": []
  }
 ],
 "metadata": {
  "kernelspec": {
   "display_name": "Python 3",
   "language": "python",
   "name": "python3"
  },
  "language_info": {
   "codemirror_mode": {
    "name": "ipython",
    "version": 3
   },
   "file_extension": ".py",
   "mimetype": "text/x-python",
   "name": "python",
   "nbconvert_exporter": "python",
   "pygments_lexer": "ipython3",
   "version": "3.6.1"
  }
 },
 "nbformat": 4,
 "nbformat_minor": 1
}
