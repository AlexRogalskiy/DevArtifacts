{
 "cells": [
  {
   "cell_type": "markdown",
   "metadata": {},
   "source": [
    "# The Agate Tutorial\n",
    "\n",
    "The best way to learn to use any tool is to actually use it. In this tutorial we will use agate to answer some basic questions about a dataset.\n",
    "\n",
    "The data we will be using is a copy of the [National Registery of Exonerations]( http://www.law.umich.edu/special/exoneration/Pages/detaillist.aspx) made on August 28th, 2015. This dataset lists individuals who are known to have been exonerated after having been wrongly convicted in United States courts. At the time this data was copied there were 1,651 entries in the registry."
   ]
  },
  {
   "cell_type": "markdown",
   "metadata": {},
   "source": [
    "## Installing agate\n",
    "\n",
    "Installing agate from the command line is easy:\n",
    "\n",
    "    pip install agate\n",
    "\n",
    "Note: You should be installing agate inside a [virtualenv](https://virtualenv.readthedocs.io/en/stable/>). If for some crazy reason you aren't using virtualenv you will need to add a ``sudo`` to the previous command.*\n",
    "\n",
    "For more detailed installation instructions, see the [Installation](http://agate.readthedocs.io/en/1.5.6/install.html) section of the documentation."
   ]
  },
  {
   "cell_type": "markdown",
   "metadata": {},
   "source": [
    "## Getting the data\n",
    "\n",
    "If you're just reading this tutorial you can skip this section. If you want to try working through it on your own then you'll need to download the data.\n",
    "\n",
    "It can be downloaded from\n",
    "\n",
    "    curl -L -O https://github.com/onyxfish/agate/raw/master/examples/realdata/exonerations-20150828.csv\n",
    "\n",
    "The rest of this tutorial will expect that data to be located in `examples/realdata`."
   ]
  },
  {
   "cell_type": "markdown",
   "metadata": {},
   "source": [
    "## Importing agate\n",
    "\n",
    "Let's get started!"
   ]
  },
  {
   "cell_type": "code",
   "execution_count": 1,
   "metadata": {
    "collapsed": true
   },
   "outputs": [],
   "source": [
    "import agate"
   ]
  },
  {
   "cell_type": "markdown",
   "metadata": {},
   "source": [
    "## Loading data from a CSV\n",
    "\n",
    "The [`Table`](http://agate.readthedocs.io/en/1.5.6/api/table.html#module-agate.table) is the basic class in agate. To create a table from a CSV we use the [`Table.from_csv`](http://agate.readthedocs.io/en/1.5.6/api/table.html#agate.Table.from_csv) class method:"
   ]
  },
  {
   "cell_type": "code",
   "execution_count": 2,
   "metadata": {
    "collapsed": false
   },
   "outputs": [],
   "source": [
    "exonerations = agate.Table.from_csv('examples/realdata/exonerations-20150828.csv')"
   ]
  },
  {
   "cell_type": "markdown",
   "metadata": {},
   "source": [
    "With no other arguments specified, agate will automatically create an instance of [`TypeTester`](http://agate.readthedocs.io/en/1.5.6/api/type_tester.html#agate.TypeTester) and use it to figure out the type of each column. TypeTester is a \"best guess\" approach to determining the kinds of data in your table. It can guess wrong. In that case you can create a TypeTester manually and use the ``force`` argument to override its guess for a specific column:"
   ]
  },
  {
   "cell_type": "code",
   "execution_count": 3,
   "metadata": {
    "collapsed": false
   },
   "outputs": [],
   "source": [
    "tester = agate.TypeTester(force={\n",
    "    'false_evidence': agate.Boolean()\n",
    "})\n",
    "\n",
    "exonerations = agate.Table.from_csv('examples/realdata/exonerations-20150828.csv', column_types=tester)"
   ]
  },
  {
   "cell_type": "markdown",
   "metadata": {},
   "source": [
    "If you already know the types of your data you may wish to skip the TypeTester entirely. You may pass sequences of column names and column types to [`Table.from_csv`](http://agate.readthedocs.io/en/1.5.6/api/table.html#agate.Table.from_csv) as the ``column_names`` and ``column_types`` arguments, respectively.\n",
    "\n",
    "For larger datasets the [`TypeTester`](http://agate.readthedocs.io/en/1.5.6/api/type_tester.html#agate.TypeTester) can be slow to evaluate the data. In that case you can specify a `limit` argument to restrict the amount of data it will use to infer types:"
   ]
  },
  {
   "cell_type": "code",
   "execution_count": 4,
   "metadata": {
    "collapsed": false
   },
   "outputs": [],
   "source": [
    "tester = agate.TypeTester(limit=100)\n",
    "\n",
    "exonerations = agate.Table.from_csv('examples/realdata/exonerations-20150828.csv', column_types=tester)"
   ]
  },
  {
   "cell_type": "markdown",
   "metadata": {},
   "source": [
    "The dataset we are using in this tutorial is simple enough that we can rely on the built-in TypeTester to guess quickly and accurately.\n",
    "\n",
    "**Note:** agate's CSV reader and writer support unicode and other encodings for both Python 2 and Python 3. Try using them as a drop-in replacement for Python's builtin module: `from agate import csv`.\n",
    "\n",
    "**Note:** agate also has [`Table.from_json`](http://agate.readthedocs.io/en/1.5.6/api/table.html#agate.Table.from_json) for creating tables from JSON data."
   ]
  },
  {
   "cell_type": "markdown",
   "metadata": {},
   "source": [
    "Describing the table\n",
    "====================\n",
    "\n",
    "If you're working with new data, or you just need a refresher, you may want to review what columns are in the table. You can do this with the [`.Table.print_structure`](http://agate.readthedocs.io/en/1.5.6/api/table.html#agate.Table.print_structure) method or by just calling `print` on the table:"
   ]
  },
  {
   "cell_type": "code",
   "execution_count": 5,
   "metadata": {
    "collapsed": false
   },
   "outputs": [
    {
     "name": "stdout",
     "output_type": "stream",
     "text": [
      "| column              | data_type |\n",
      "| ------------------- | --------- |\n",
      "| last_name           | Text      |\n",
      "| first_name          | Text      |\n",
      "| age                 | Number    |\n",
      "| race                | Text      |\n",
      "| state               | Text      |\n",
      "| tags                | Text      |\n",
      "| crime               | Text      |\n",
      "| sentence            | Text      |\n",
      "| convicted           | Number    |\n",
      "| exonerated          | Number    |\n",
      "| dna                 | Boolean   |\n",
      "| dna_essential       | Text      |\n",
      "| mistake_witness     | Boolean   |\n",
      "| false_confession    | Boolean   |\n",
      "| perjury             | Boolean   |\n",
      "| false_evidence      | Boolean   |\n",
      "| official_misconduct | Boolean   |\n",
      "| inadequate_defense  | Boolean   |\n",
      "\n"
     ]
    }
   ],
   "source": [
    "print(exonerations)"
   ]
  },
  {
   "cell_type": "markdown",
   "metadata": {},
   "source": [
    "Navigating table data\n",
    "=====================\n",
    "\n",
    "agate goes to great pains to make accessing the data in your tables work seamlessly for a wide variety of use-cases. Access by both [`Column`](http://agate.readthedocs.io/en/1.5.6/api/columns_and_rows.html#agate.Column) and [`Row`](http://agate.readthedocs.io/en/1.5.6/api/columns_and_rows.html#agate.Row) is supported, via the [`Table.columns`](http://agate.readthedocs.io/en/1.5.6/api/table.html#agate.Table.columns) and [`Table.rows`](http://agate.readthedocs.io/en/1.5.6/api/table.html#agate.Table.rows) attributes respectively.\n",
    "\n",
    "All four of these objects are examples of [`.MappedSequence`](http://agate.readthedocs.io/en/1.5.6/api/columns_and_rows.html#agate.MappedSequence), the foundational type that underlies much of agate's functionality. A MappedSequence functions very similar to a standard Python [`dict`](https://docs.python.org/3/tutorial/datastructures.html#dictionaries), with a few important exceptions:\n",
    "\n",
    "* Data may be accessed either by numeric index (e.g. column number) or by a non-integer key (e.g. column name).\n",
    "* Items are ordered, just like an instance of [`collections.OrderedDict`](https://docs.python.org/3.5/library/collections.html#collections.OrderedDict).\n",
    "* Iterating over the sequence returns its *values*, rather than its *keys*.\n",
    "\n",
    "To demonstrate the first point, these two lines are both valid ways of getting the first column in the `exonerations` table:"
   ]
  },
  {
   "cell_type": "code",
   "execution_count": 6,
   "metadata": {
    "collapsed": false
   },
   "outputs": [
    {
     "data": {
      "text/plain": [
       "<agate.columns.Column at 0x105931b28>"
      ]
     },
     "execution_count": 6,
     "metadata": {},
     "output_type": "execute_result"
    }
   ],
   "source": [
    "exonerations.columns['last_name']"
   ]
  },
  {
   "cell_type": "code",
   "execution_count": 7,
   "metadata": {
    "collapsed": false
   },
   "outputs": [
    {
     "data": {
      "text/plain": [
       "<agate.columns.Column at 0x105931b28>"
      ]
     },
     "execution_count": 7,
     "metadata": {},
     "output_type": "execute_result"
    }
   ],
   "source": [
    "exonerations.columns[0]"
   ]
  },
  {
   "cell_type": "markdown",
   "metadata": {},
   "source": [
    "In the same way, rows can be accessed either by numeric index or by an optional, unique \"row name\" specified when the table is created. In this tutorial we won't use row names, but here is an example of how they work:"
   ]
  },
  {
   "cell_type": "code",
   "execution_count": 8,
   "metadata": {
    "collapsed": false
   },
   "outputs": [
    {
     "data": {
      "text/plain": [
       "<agate.rows.Row at 0x105de0558>"
      ]
     },
     "execution_count": 8,
     "metadata": {},
     "output_type": "execute_result"
    }
   ],
   "source": [
    "exonerations = agate.Table.from_csv('examples/realdata/exonerations-20150828.csv', row_names=lambda r: '%(last_name)s, %(first_name)s' % (r))\n",
    "\n",
    "exonerations.rows[0]"
   ]
  },
  {
   "cell_type": "code",
   "execution_count": 9,
   "metadata": {
    "collapsed": false
   },
   "outputs": [
    {
     "data": {
      "text/plain": [
       "<agate.rows.Row at 0x105de0558>"
      ]
     },
     "execution_count": 9,
     "metadata": {},
     "output_type": "execute_result"
    }
   ],
   "source": [
    "exonerations.rows['Abbitt, Joseph Lamont']"
   ]
  },
  {
   "cell_type": "markdown",
   "metadata": {},
   "source": [
    "In this case we create our row names using a [`lambda`](https://docs.python.org/3/tutorial/controlflow.html#lambda-expressions) function that takes a row and returns an unique identifer. If your data has a unique column, you can also just pass the column name. (For example, a column of USPS abbrevations or FIPS codes.) Note, however, that your row names can never be `int`, because that is reserved for indexing by numeric order. (A [`decimal.Decimal`](https://docs.python.org/3.5/library/decimal.html#decimal.Decimal) or stringified integer is just fine.)\n",
    "\n",
    "Once you've got a specific row, you can then access its individual values (cells, in spreadsheet-speak) either by numeric index or column name:"
   ]
  },
  {
   "cell_type": "code",
   "execution_count": 10,
   "metadata": {
    "collapsed": false
   },
   "outputs": [
    {
     "data": {
      "text/plain": [
       "'Abbitt'"
      ]
     },
     "execution_count": 10,
     "metadata": {},
     "output_type": "execute_result"
    }
   ],
   "source": [
    "row = exonerations.rows[0]\n",
    "\n",
    "row[0]"
   ]
  },
  {
   "cell_type": "code",
   "execution_count": 11,
   "metadata": {
    "collapsed": false
   },
   "outputs": [
    {
     "data": {
      "text/plain": [
       "'Abbitt'"
      ]
     },
     "execution_count": 11,
     "metadata": {},
     "output_type": "execute_result"
    }
   ],
   "source": [
    "row['last_name']"
   ]
  },
  {
   "cell_type": "markdown",
   "metadata": {},
   "source": [
    "And the same goes for columns, which can be indexed numerically or by row name (if one has been setup):"
   ]
  },
  {
   "cell_type": "code",
   "execution_count": 12,
   "metadata": {
    "collapsed": false
   },
   "outputs": [
    {
     "data": {
      "text/plain": [
       "'Child Sex Abuse'"
      ]
     },
     "execution_count": 12,
     "metadata": {},
     "output_type": "execute_result"
    }
   ],
   "source": [
    "column = exonerations.columns['crime']\n",
    "\n",
    "column[0]"
   ]
  },
  {
   "cell_type": "code",
   "execution_count": 13,
   "metadata": {
    "collapsed": false
   },
   "outputs": [
    {
     "data": {
      "text/plain": [
       "'Child Sex Abuse'"
      ]
     },
     "execution_count": 13,
     "metadata": {},
     "output_type": "execute_result"
    }
   ],
   "source": [
    "column['Abbitt, Joseph Lamont']"
   ]
  },
  {
   "cell_type": "markdown",
   "metadata": {},
   "source": [
    "For any instance of [`.MappedSequence`](http://agate.readthedocs.io/en/1.5.6/api/columns_and_rows.html#agate.MappedSequence), iteration returns values, *in order*. Here we print only the first ten:"
   ]
  },
  {
   "cell_type": "code",
   "execution_count": 14,
   "metadata": {
    "collapsed": false
   },
   "outputs": [
    {
     "name": "stdout",
     "output_type": "stream",
     "text": [
      "Abbitt\n",
      "Abdal\n",
      "Abernathy\n",
      "Acero\n",
      "Adams\n",
      "Adams\n",
      "Adams\n",
      "Adams\n",
      "Adams\n",
      "Adams\n"
     ]
    }
   ],
   "source": [
    "for row in exonerations.rows[:10]:\n",
    "    print(row['last_name'])"
   ]
  },
  {
   "cell_type": "markdown",
   "metadata": {
    "collapsed": true
   },
   "source": [
    "To summarize, the four most common data structures in agate ([`Column`](http://agate.readthedocs.io/en/1.5.6/api/columns_and_rows.html#agate.Column), [`Row`](http://agate.readthedocs.io/en/1.5.6/api/columns_and_rows.html#agate.Row), [`Table.columns`](http://agate.readthedocs.io/en/1.5.6/api/table.html#agate.Table.columns) and [`Table.rows`](http://agate.readthedocs.io/en/1.5.6/api/table.html#agate.Table.rows)) are all instances of [`MappedSequence`](http://agate.readthedocs.io/en/1.5.6/api/columns_and_rows.html#agate.MappedSequence) and therefore all behave in a uniform way. This is also true of [`TableSet`](http://agate.readthedocs.io/en/1.5.6/api/tableset.html), which will discuss later on."
   ]
  },
  {
   "cell_type": "markdown",
   "metadata": {},
   "source": [
    "Aggregating column data\n",
    "=======================\n",
    "\n",
    "With the basics out of the way, let's do some actual analysis. Analysis begins with questions, so let's ask some.\n",
    "\n",
    "**Question:** How many exonerations involved a false confession?\n",
    "\n",
    "Answering this question involves counting the number of ``True`` values in the ``false_confession`` column. When we created the table we specified that the data in this column contained [`Boolean`](http://agate.readthedocs.io/en/1.5.6/api/data_types.html#agate.Boolean) data. Because of this, agate has taken care of coercing the original text data from the CSV into Python's ``True`` and ``False`` values.\n",
    "\n",
    "We'll answer the question using an instance of [`Count`](http://agate.readthedocs.io/en/1.5.6/api/aggregations.html#agate.Count) which is a type of [`Aggregation`](http://agate.readthedocs.io/en/1.5.6/api/aggregations.html#agate.Aggregation). Aggregations are used to perform \"column-wise\" calculations. That is, they derive a new single value from the contents of a column. The [`Count`](http://agate.readthedocs.io/en/1.5.6/api/aggregations.html#agate.Count) aggregation can count either all values in a column, or how many times a particular value appears.\n",
    "\n",
    "An Aggregation is applied to a table using [`Table.aggregate`](http://agate.readthedocs.io/en/1.5.6/api/table.html#agate.Table.aggregate).\n",
    "\n",
    "It sounds complicated, but it's really simple. Putting it all together looks like this:"
   ]
  },
  {
   "cell_type": "code",
   "execution_count": 15,
   "metadata": {
    "collapsed": false
   },
   "outputs": [
    {
     "data": {
      "text/plain": [
       "211"
      ]
     },
     "execution_count": 15,
     "metadata": {},
     "output_type": "execute_result"
    }
   ],
   "source": [
    "exonerations.aggregate(agate.Count('false_confession', True))"
   ]
  },
  {
   "cell_type": "markdown",
   "metadata": {},
   "source": [
    "Let's look at another example, this time using a numerical aggregation.\n",
    "\n",
    "**Question:** What was the median age of exonerated indviduals at time of arrest?"
   ]
  },
  {
   "cell_type": "code",
   "execution_count": 16,
   "metadata": {
    "collapsed": false
   },
   "outputs": [
    {
     "name": "stderr",
     "output_type": "stream",
     "text": [
      "/Users/cgroskopf/src/agate/agate/aggregations/median.py:37: NullCalculationWarning: Column \"age\" contains nulls. These will be excluded from Median calculation.\n"
     ]
    },
    {
     "data": {
      "text/plain": [
       "Decimal('26')"
      ]
     },
     "execution_count": 16,
     "metadata": {},
     "output_type": "execute_result"
    }
   ],
   "source": [
    "exonerations.aggregate(agate.Median('age'))"
   ]
  },
  {
   "cell_type": "markdown",
   "metadata": {},
   "source": [
    "The answer to our question is \"26 years old\", however, as the warnings indicate, not every exonerated individual in the data has a value for the ``age`` column. The [`Median`](http://agate.readthedocs.io/en/1.5.6/api/aggregations.html#agate.Median) statistical operation has no standard way of accounting for null values, so it leaves them out of the calculation.\n",
    "\n",
    "**Question:** How many individuals do not have an age specified in the data?\n",
    "\n",
    "Now that we know there are null values in the ``age`` column, we might worry about our sample size. What if most of the rows don't have an age?"
   ]
  },
  {
   "cell_type": "code",
   "execution_count": 17,
   "metadata": {
    "collapsed": false
   },
   "outputs": [
    {
     "data": {
      "text/plain": [
       "9"
      ]
     },
     "execution_count": 17,
     "metadata": {},
     "output_type": "execute_result"
    }
   ],
   "source": [
    "exonerations.aggregate(agate.Count('age', None))"
   ]
  },
  {
   "cell_type": "markdown",
   "metadata": {
    "collapsed": true
   },
   "source": [
    "Only nine rows in this dataset don't have age, so it's certainly still useful to compute a median. However, we might still want to filter those rows out so we could have a consistent sample for all of our calculations. In the next section you'll learn how to do just that.\n",
    "\n",
    "Different [`aggregations`](http://agate.readthedocs.io/en/1.5.6/api/aggregations.html) can be applied depending on the type of data in each column. If none of the provided aggregations suit your needs you can use [`Summary`](http://agate.readthedocs.io/en/1.5.6/api/aggregations.html#agate.Summary) to apply an arbitrary function to a column. If that still doesn't suit your needs you can always create your own aggregation from scratch by subclassing [`Aggregation`](http://agate.readthedocs.io/en/1.5.6/api/aggregations.html#agate.Aggregation)."
   ]
  },
  {
   "cell_type": "markdown",
   "metadata": {},
   "source": [
    "Selecting and filtering data\n",
    "============================\n",
    "\n",
    "So what if those rows with no age were going to flummox our analysis? Agate's [`Table`](http://agate.readthedocs.io/en/1.5.6/api/table.html#agate.Table) class provides a full suite of SQL-like operations including [`Table.select`](http://agate.readthedocs.io/en/1.5.6/api/table.html#agate.Table.select) for grabbing specific columns, [`Table.where`](http://agate.readthedocs.io/en/1.5.6/api/table.html#agate.Table.where) for selecting particular rows and [`Table.group_by`](http://agate.readthedocs.io/en/1.5.6/api/table.html#agate.Table.group_by) for grouping rows by common values.\n",
    "\n",
    "Let's use [`Table.where`](http://agate.readthedocs.io/en/1.5.6/api/table.html#agate.Table.where) to filter our exonerations table to only those individuals that have an age specified."
   ]
  },
  {
   "cell_type": "code",
   "execution_count": 18,
   "metadata": {
    "collapsed": true
   },
   "outputs": [],
   "source": [
    "with_age = exonerations.where(lambda row: row['age'] is not None)"
   ]
  },
  {
   "cell_type": "markdown",
   "metadata": {},
   "source": [
    "You'll notice we provide a [`lambda`](https://docs.python.org/3/tutorial/controlflow.html#lambda-expressions) function to the [`Table.where`](http://agate.readthedocs.io/en/1.5.6/api/table.html#agate.Table.where). This function is applied to each row and if it returns ``True``, then the row is included in the output table.\n",
    "\n",
    "A crucial thing to understand about these table methods is that they return **new tables**. In our example above ``exonerations`` was a [`Table`](http://agate.readthedocs.io/en/1.5.6/api/table.html#agate.Table) instance and we applied [`Table.where`](http://agate.readthedocs.io/en/1.5.6/api/table.html#agate.Table.where), so ``with_age`` is a new, different [`Table`](http://agate.readthedocs.io/en/1.5.6/api/table.html#agate.Table). The tables themselves can't be changed. You can create new tables with these methods, but you can't modify them in-place. (If this seems weird, just trust me. There are lots of good computer science-y reasons to do it this way.)\n",
    "\n",
    "We can verify this did what we expected by counting the rows in the original table and rows in the new table:"
   ]
  },
  {
   "cell_type": "code",
   "execution_count": 19,
   "metadata": {
    "collapsed": false
   },
   "outputs": [
    {
     "data": {
      "text/plain": [
       "9"
      ]
     },
     "execution_count": 19,
     "metadata": {},
     "output_type": "execute_result"
    }
   ],
   "source": [
    "len(exonerations.rows) - len(with_age.rows)"
   ]
  },
  {
   "cell_type": "markdown",
   "metadata": {},
   "source": [
    "Nine rows were removed, which is the number of nulls we had already identified were in the column.\n",
    "\n",
    "Now if we calculate the median age of these individuals, we don't see the warning anymore."
   ]
  },
  {
   "cell_type": "code",
   "execution_count": 20,
   "metadata": {
    "collapsed": false
   },
   "outputs": [
    {
     "data": {
      "text/plain": [
       "Decimal('26')"
      ]
     },
     "execution_count": 20,
     "metadata": {},
     "output_type": "execute_result"
    }
   ],
   "source": [
    "with_age.aggregate(agate.Median('age'))"
   ]
  },
  {
   "cell_type": "markdown",
   "metadata": {},
   "source": [
    "Computing new columns\n",
    "=====================\n",
    "\n",
    "In addition to \"column-wise\" [`aggregations`](http://agate.readthedocs.io/en/1.5.6/api/aggregations.html#module-agate.aggregations) there are also \"row-wise\" [`computations`](http://agate.readthedocs.io/en/1.5.6/api/computations.html#module-agate.computations). Computations go through a [`Table`](http://agate.readthedocs.io/en/1.5.6/api/table.html#agate.Table) row-by-row and derive a new column using the existing data. To perform row computations in agate we use subclasses of [`Computation`](http://agate.readthedocs.io/en/1.5.6/api/computations.html#agate.Computation).\n",
    "\n",
    "When one or more instances of [`Computation`](http://agate.readthedocs.io/en/1.5.6/api/computations.html#agate.Computation) are applied with the [`Table.compute`](http://agate.readthedocs.io/en/1.5.6/api/table.html#agate.Table.compute) method, a new table is created with additional columns.\n",
    "\n",
    "**Question:** How long did individuals remain in prison before being exonerated?\n",
    "\n",
    "To answer this question we will apply the [`Change`](http://agate.readthedocs.io/en/1.5.6/api/computations.html#agate.Change) computation to the ``convicted`` and ``exonerated`` columns. Each of these columns contains the individual's age at the time of that event. All that [`Change`](http://agate.readthedocs.io/en/1.5.6/api/computations.html#agate.Change) does is compute the difference between two numbers. (In this case each of these columns contain a [`Number`](http://agate.readthedocs.io/en/1.5.6/api/data_types.html#agate.Number), but this will also work with [`Date`](http://agate.readthedocs.io/en/1.5.6/api/data_types.html#agate.Date) or [`DateTime`](http://agate.readthedocs.io/en/1.5.6/api/data_types.html#agate.DateTime).)"
   ]
  },
  {
   "cell_type": "code",
   "execution_count": 21,
   "metadata": {
    "collapsed": false
   },
   "outputs": [
    {
     "data": {
      "text/plain": [
       "Decimal('8')"
      ]
     },
     "execution_count": 21,
     "metadata": {},
     "output_type": "execute_result"
    }
   ],
   "source": [
    "with_years_in_prison = exonerations.compute([\n",
    "    ('years_in_prison', agate.Change('convicted', 'exonerated'))\n",
    "])\n",
    "\n",
    "with_years_in_prison.aggregate(agate.Median('years_in_prison'))"
   ]
  },
  {
   "cell_type": "markdown",
   "metadata": {},
   "source": [
    "The median number of years an exonerated individual spent in prison was 8 years.\n",
    "\n",
    "Sometimes, the built-in computations, such as [`Change`](http://agate.readthedocs.io/en/1.5.6/api/computations.html#agate.Change) won't suffice. I mentioned before that you could perform arbitrary column-wise aggregations using [`Summary`](http://agate.readthedocs.io/en/1.5.6/api/aggregations.html#agate.Summary). You can do the same thing for row-wise computations using [`Formula`](http://agate.readthedocs.io/en/1.5.6/api/computations.html#agate.Formula). This is somewhat analogous to Excel's cell formulas.\n",
    "\n",
    "For example, this code will create a ``full_name`` column from the ``first_name`` and ``last_name`` columns in the data:"
   ]
  },
  {
   "cell_type": "code",
   "execution_count": 22,
   "metadata": {
    "collapsed": true
   },
   "outputs": [],
   "source": [
    "full_names = exonerations.compute([\n",
    "    ('full_name', agate.Formula(agate.Text(), lambda row: '%(first_name)s %(last_name)s' % row))\n",
    "])"
   ]
  },
  {
   "cell_type": "markdown",
   "metadata": {},
   "source": [
    "For efficiency's sake, agate allows you to perform several computations at once (though their results can't depend on one another):"
   ]
  },
  {
   "cell_type": "code",
   "execution_count": 23,
   "metadata": {
    "collapsed": true
   },
   "outputs": [],
   "source": [
    "with_computations = exonerations.compute([\n",
    "    ('full_name', agate.Formula(agate.Text(), lambda row: '%(first_name)s %(last_name)s' % row)),\n",
    "    ('years_in_prison', agate.Change('convicted', 'exonerated'))\n",
    "])"
   ]
  },
  {
   "cell_type": "markdown",
   "metadata": {},
   "source": [
    "You can also compute new columns to clean up your raw data. In the initial data, the ``state`` column has some values with a 'F-' prefix on the state abbreviation. Cases with that prefix are federal cases as opposed to state prosecutions. To make the data easier to use, we can create a new ``federal`` column to tag federal cases and clean up the original state column:"
   ]
  },
  {
   "cell_type": "code",
   "execution_count": 24,
   "metadata": {
    "collapsed": true
   },
   "outputs": [],
   "source": [
    "clean_state_data = exonerations.compute([\n",
    "    ('federal', agate.Formula(agate.Boolean(), lambda row: row['state'].startswith('F-'))),\n",
    "    ('state', agate.Formula(agate.Text(), lambda row: row['state'][2:] if row['state'].startswith('F-') else row['state']))\n",
    "], replace=True)"
   ]
  },
  {
   "cell_type": "markdown",
   "metadata": {
    "collapsed": true
   },
   "source": [
    "We add the ``replace`` argument to our ``compute`` method to replace the state column in place.\n",
    "\n",
    "If [`Formula`](http://agate.readthedocs.io/en/1.5.6/api/computations.html#agate.Formula) is not flexible enough (for instance, if you needed to compute a new value based on the distribution of data in a column) you can always implement your own subclass of [`Computation`](http://agate.readthedocs.io/en/1.5.6/api/computations.html#agate.Computation). See the API documentation for [`computations`](http://agate.readthedocs.io/en/1.5.6/api/computations.html#module-agate.computations to see all of the supported ways to compute new data."
   ]
  },
  {
   "cell_type": "markdown",
   "metadata": {},
   "source": [
    "Sorting and slicing\n",
    "===================\n",
    "\n",
    "**Question:** Who are the ten exonerated individuals who were youngest at the time they were arrested?\n",
    "\n",
    "Remembering that methods of tables return tables, we will use [`Table.order_by`](http://agate.readthedocs.io/en/1.5.6/api/table.html#agate.Table.order_by) to sort our table:"
   ]
  },
  {
   "cell_type": "code",
   "execution_count": 25,
   "metadata": {
    "collapsed": true
   },
   "outputs": [],
   "source": [
    "sorted_by_age = exonerations.order_by('age')"
   ]
  },
  {
   "cell_type": "markdown",
   "metadata": {},
   "source": [
    "We can then use [`Table.limit`](http://agate.readthedocs.io/en/1.5.6/api/table.html#agate.Table.limit) get only the first ten rows of the data."
   ]
  },
  {
   "cell_type": "code",
   "execution_count": 26,
   "metadata": {
    "collapsed": true
   },
   "outputs": [],
   "source": [
    "youngest_ten = sorted_by_age.limit(10)"
   ]
  },
  {
   "cell_type": "markdown",
   "metadata": {},
   "source": [
    "Now let's use [`Table.print_table`](http://agate.readthedocs.io/en/1.5.6/api/table.html#agate.Table.print_table) to help us pretty the results in a way we can easily review:"
   ]
  },
  {
   "cell_type": "code",
   "execution_count": 27,
   "metadata": {
    "collapsed": false
   },
   "outputs": [
    {
     "name": "stdout",
     "output_type": "stream",
     "text": [
      "| last_name | first_name | age | race      | state | tags    | crime   | ... |\n",
      "| --------- | ---------- | --- | --------- | ----- | ------- | ------- | --- |\n",
      "| Murray    | Lacresha   |  11 | Black     | TX    | CV, F   | Murder  | ... |\n",
      "| Adams     | Johnathan  |  12 | Caucasian | GA    | CV, P   | Murder  | ... |\n",
      "| Harris    | Anthony    |  12 | Black     | OH    | CV      | Murder  | ... |\n",
      "| Edmonds   | Tyler      |  13 | Caucasian | MS    |         | Murder  | ... |\n",
      "| Handley   | Zachary    |  13 | Caucasian | PA    | A, CV   | Arson   | ... |\n",
      "| Jimenez   | Thaddeus   |  13 | Hispanic  | IL    |         | Murder  | ... |\n",
      "| Pacek     | Jerry      |  13 | Caucasian | PA    |         | Murder  | ... |\n",
      "| Barr      | Jonathan   |  14 | Black     | IL    | CDC, CV | Murder  | ... |\n",
      "| Brim      | Dominique  |  14 | Black     | MI    | F       | Assault | ... |\n",
      "| Brown     | Timothy    |  14 | Black     | FL    |         | Murder  | ... |\n"
     ]
    }
   ],
   "source": [
    "youngest_ten.print_table(max_columns=7)"
   ]
  },
  {
   "cell_type": "markdown",
   "metadata": {},
   "source": [
    "If you find it impossible to believe that an eleven year-old was convicted of murder, I encourage you to read the Registry's [description of the case](http://www.law.umich.edu/special/exoneration/Pages/casedetail.aspx?caseid=3499>).\n",
    "\n",
    "**Note:**  In the previous example we could have omitted the [`Table.limit`](http://agate.readthedocs.io/en/1.5.6/api/table.html#agate.Table.limit) and passed a ``max_rows=10`` to [`Table.print_table`](http://agate.readthedocs.io/en/1.5.6/api/table.html#agate.Table.print_table) instead. In this case they accomplish exactly the same goal.\n",
    "\n",
    "What if we were more curious about the *distribution* of ages, rather than the highest or lowest? agate includes the [`Table.pivot`](http://agate.readthedocs.io/en/1.5.6/api/table.html#agate.Table.pivot) and [`Table.bins`](http://agate.readthedocs.io/en/1.5.6/api/table.html#agate.Table.bins) methods for counting values individually or by ranges. Let's try binning the ages. Then, instead of using [`Table.print_table`](http://agate.readthedocs.io/en/1.5.6/api/table.html#agate.Table.print_table), we'll use [`Table.print_bars`](http://agate.readthedocs.io/en/1.5.6/api/table.html#agate.Table.print_bars) to generate a simple, text bar chart."
   ]
  },
  {
   "cell_type": "code",
   "execution_count": 28,
   "metadata": {
    "collapsed": false
   },
   "outputs": [
    {
     "name": "stdout",
     "output_type": "stream",
     "text": [
      "age       Count\n",
      "[10 - 19)   227 ▓░░░░░░░░░░░░░░░░░░░░                                           \n",
      "[19 - 28)   688 ▓░░░░░░░░░░░░░░░░░░░░░░░░░░░░░░░░░░░░░░░░░░░░░░░░░░░░░░░░░░░░░░ \n",
      "[28 - 37)   405 ▓░░░░░░░░░░░░░░░░░░░░░░░░░░░░░░░░░░░░                           \n",
      "[37 - 46)   213 ▓░░░░░░░░░░░░░░░░░░░                                            \n",
      "[46 - 55)    81 ▓░░░░░░░                                                        \n",
      "[55 - 64)    24 ▓░░                                                             \n",
      "[64 - 73)     3 ▓                                                               \n",
      "[82 - 91)     1 ▓                                                               \n",
      "None          9 ▓░                                                              \n",
      "                +---------------+---------------+--------------+---------------+\n",
      "                0              175             350            525            700\n"
     ]
    }
   ],
   "source": [
    "binned_ages = exonerations.bins('age', 10, 0, 100)\n",
    "binned_ages.print_bars('age', 'Count', width=80)"
   ]
  },
  {
   "cell_type": "markdown",
   "metadata": {
    "collapsed": true
   },
   "source": [
    "Notice that we specify we want :code:`10` bins spanning the range :code:`0` to :code:`100`. If these values are omitted agate will attempt to infer good defaults. We also specify that we want our bar chart to span a width of :code:`80` characters. This can be adjusted to a suitable width for your terminal or document.\n",
    "\n",
    "**Note:** If you use a monospaced font, such as Courier, you can copy and paste agate bar charts into emails or documents. No screenshots required."
   ]
  },
  {
   "cell_type": "markdown",
   "metadata": {},
   "source": [
    "Grouping and aggregating\n",
    "========================\n",
    "\n",
    "**Question:** Which state has seen the most exonerations?\n",
    "\n",
    "This question can't be answered by operating on a single column. What we need is the equivalent of SQL's ``GROUP BY``. agate supports a full set of SQL-like operations on tables. Unlike SQL, agate breaks grouping and aggregation into two discrete steps.\n",
    "\n",
    "First, we use [`Table.group_by`](http://agate.readthedocs.io/en/1.5.6/api/table.html#agate.Table.group_by) to group the data by state."
   ]
  },
  {
   "cell_type": "code",
   "execution_count": 29,
   "metadata": {
    "collapsed": true
   },
   "outputs": [],
   "source": [
    "by_state = clean_state_data.group_by('state')"
   ]
  },
  {
   "cell_type": "markdown",
   "metadata": {},
   "source": [
    "This takes our original [`Table`](http://agate.readthedocs.io/en/1.5.6/api/table.html#agate.Table) and groups it into a [`TableSet`](http://agate.readthedocs.io/en/1.5.6/api/tableset.html#agate.TableSet), which contains one table per state. As mentioned much earlier in this tutorial, TableSets are instances of [`MappedSequence`](http://agate.readthedocs.io/en/1.5.6/api/columns_and_rows.html#agate.MappedSequence). That means they work very much like [`Column`](http://agate.readthedocs.io/en/1.5.6/api/columns_and_rows.html#agate.Column) and [`Row`](http://agate.readthedocs.io/en/1.5.6/api/columns_and_rows.html#agate.Row).\n",
    "\n",
    "Now we need to aggregate the total for each state. This works in a very similar way to how it did when we were aggregating columns of a single table, except that we'll use the [`Count`](http://agate.readthedocs.io/en/1.5.6/api/aggregations.html#agate.Count) aggregation to count the total number of rows in each group."
   ]
  },
  {
   "cell_type": "code",
   "execution_count": 30,
   "metadata": {
    "collapsed": false
   },
   "outputs": [
    {
     "name": "stdout",
     "output_type": "stream",
     "text": [
      "| state | count |\n",
      "| ----- | ----- |\n",
      "| TX    |   217 |\n",
      "| NY    |   209 |\n",
      "| CA    |   164 |\n",
      "| IL    |   158 |\n",
      "| MI    |    63 |\n",
      "| ...   |   ... |\n"
     ]
    }
   ],
   "source": [
    "state_totals = by_state.aggregate([\n",
    "    ('count', agate.Count())\n",
    "])\n",
    "\n",
    "sorted_totals = state_totals.order_by('count', reverse=True)\n",
    "\n",
    "sorted_totals.print_table(max_rows=5)"
   ]
  },
  {
   "cell_type": "markdown",
   "metadata": {},
   "source": [
    "You'll notice we pass a sequence of tuples to [`TableSet.aggregate`](http://agate.readthedocs.io/en/1.5.6/api/tableset.html#agate.TableSet.aggregate). Each one includes two elements. The first is the new column name being created. The second is an instance of some [`Aggregation`](http://agate.readthedocs.io/en/1.5.6/api/aggregations.html#agate.Aggregation). Unsurpringly, in this case the results appear to be roughly proportional to population.\n",
    "\n",
    "**Question:** What state has the longest median time in prison prior to exoneration?\n",
    "\n",
    "This is a much more complicated question that's going to pull together a lot of the features we've been using. We'll repeat the computations we applied before, but this time we're going to roll those computations up in state-by-state groups and then take the [`Median`](http://agate.readthedocs.io/en/1.5.6/api/aggregations.html#agate.Median of each group. Then we'll sort the data and see where people have been stuck in prison the longest."
   ]
  },
  {
   "cell_type": "code",
   "execution_count": 31,
   "metadata": {
    "collapsed": false
   },
   "outputs": [
    {
     "name": "stdout",
     "output_type": "stream",
     "text": [
      "| state | count | median_years_in_p... |\n",
      "| ----- | ----- | -------------------- |\n",
      "| DC    |    15 |                   27 |\n",
      "| NE    |     9 |                   20 |\n",
      "| ID    |     2 |                   19 |\n",
      "| VT    |     1 |                   18 |\n",
      "| LA    |    45 |                   16 |\n",
      "| ...   |   ... |                  ... |\n"
     ]
    }
   ],
   "source": [
    "with_years_in_prison = exonerations.compute([\n",
    "    ('years_in_prison', agate.Change('convicted', 'exonerated'))\n",
    "])\n",
    "\n",
    "state_totals = with_years_in_prison.group_by('state')\n",
    "\n",
    "medians = state_totals.aggregate([\n",
    "    ('count', agate.Count()),\n",
    "    ('median_years_in_prison', agate.Median('years_in_prison'))\n",
    "])\n",
    "\n",
    "sorted_medians = medians.order_by('median_years_in_prison', reverse=True)\n",
    "\n",
    "sorted_medians.print_table(max_rows=5)"
   ]
  },
  {
   "cell_type": "markdown",
   "metadata": {
    "collapsed": true
   },
   "source": [
    "DC? Nebraska? What accounts for these states having the longest times in prison before exoneration? I have no idea! Given that the group sizes are small, it would probably be wise to look for outliers.\n",
    "\n",
    "As with [`Table.aggregate`]()http://agate.readthedocs.io/en/1.5.6/api/table.html#agate.Table.aggregate and [`Table.compute`](http://agate.readthedocs.io/en/1.5.6/api/table.html#agate.Table.compute), the [`TableSet.aggregate`](http://agate.readthedocs.io/en/1.5.6/api/tableset.html#agate.TableSet.aggregate) method takes a list of aggregations to perform. You can aggregate as many columns as you like in a single step and they will all appear in the output table."
   ]
  },
  {
   "cell_type": "markdown",
   "metadata": {},
   "source": [
    "Multi-dimensional aggregation\n",
    "=============================\n",
    "\n",
    "I've already shown you that you can use [`TableSet`](http://agate.readthedocs.io/en/1.5.6/api/tableset.html#agate.TableSet) to group instances of [`Table`](http://agate.readthedocs.io/en/1.5.6/api/table.html#agate.Table). However, you can also use a [`TableSet`](http://agate.readthedocs.io/en/1.5.6/api/tableset.html#agate.TableSet) to group *other TableSets*. To put that another way, instances of [`TableSet`](http://agate.readthedocs.io/en/1.5.6/api/tableset.html#agate.TableSet) can be *nested*.\n",
    "\n",
    "The key to nesting data in this way is to use [`TableSet.group_by`](http://agate.readthedocs.io/en/1.5.6/api/tableset.html#agate.TableSet.group_by). This is one of many methods that can be called on a TableSet, which will then be applied to all the tables it contains. In the last section we used [`Table.group_by`](http://agate.readthedocs.io/en/1.5.6/api/table.html#agate.Table.group_by) to split data up into a group of tables. By calling [`TableSet.group_by`](http://agate.readthedocs.io/en/1.5.6/api/tableset.html#agate.TableSet.group_by), which essentially called ``group_by`` on each table and collect the results. This can be pretty hard to wrap your head around, so let's look at a concrete example.\n",
    "\n",
    "**Question:** Is there a collective relationship between race, age and time spent in prison prior to exoneration?\n",
    "\n",
    "I'm not going to explain every stage of this analysis as most of it repeats patterns used previously. The key part to look for is the two separate uses of ``group_by``:"
   ]
  },
  {
   "cell_type": "code",
   "execution_count": 32,
   "metadata": {
    "collapsed": false
   },
   "outputs": [
    {
     "name": "stdout",
     "output_type": "stream",
     "text": [
      "| race            | age_group | count | median_years_in_p... |\n",
      "| --------------- | --------- | ----- | -------------------- |\n",
      "| Native American | 20s       |     2 |                 21.5 |\n",
      "|                 | 20s       |     1 |                 19.0 |\n",
      "| Native American | 10s       |     2 |                 15.0 |\n",
      "| Native American | 30s       |     2 |                 14.5 |\n",
      "| Black           | 10s       |   188 |                 14.0 |\n",
      "| Black           | 20s       |   358 |                 13.0 |\n",
      "| Asian           | 20s       |     4 |                 12.0 |\n",
      "| Black           | 30s       |   156 |                 10.0 |\n",
      "| Caucasian       | 10s       |    76 |                  8.0 |\n",
      "| Caucasian       | 20s       |   255 |                  8.0 |\n",
      "| ...             | ...       |   ... |                  ... |\n"
     ]
    }
   ],
   "source": [
    "# Filters rows without age data\n",
    "only_with_age = with_years_in_prison.where(\n",
    "    lambda r: r['age'] is not None\n",
    ")\n",
    "\n",
    "# Group by race\n",
    "race_groups = only_with_age.group_by('race')\n",
    "\n",
    "# Sub-group by age cohorts (20s, 30s, etc.)\n",
    "race_and_age_groups = race_groups.group_by(\n",
    "    lambda r: '%i0s' % (r['age'] // 10),\n",
    "    key_name='age_group'\n",
    ")\n",
    "\n",
    "# Aggregate medians for each group\n",
    "medians = race_and_age_groups.aggregate([\n",
    "    ('count', agate.Count()),\n",
    "    ('median_years_in_prison', agate.Median('years_in_prison'))\n",
    "])\n",
    "\n",
    "# Sort the results\n",
    "sorted_groups = medians.order_by('median_years_in_prison', reverse=True)\n",
    "\n",
    "# Print out the results\n",
    "sorted_groups.print_table(max_rows=10)"
   ]
  },
  {
   "cell_type": "markdown",
   "metadata": {},
   "source": [
    "## Exploratory charting\n",
    "\n",
    "Beginning with version 1.5.0, agate includes the pure-Python SVG charting library [leather](http://leather.readthedocs.io/en/latest/). Leather allows you to generate \"good enough\" charts with as little as one line of code. It's especially useful if you're working in a Jupyter Notebook, as the results will render inline.\n",
    "\n",
    "There are currently four chart types support: [`Table.bar_chart`](http://agate.readthedocs.io/en/1.5.6/api/table.html#agate.Table.bar_chart), [`Table.column_chart`](http://agate.readthedocs.io/en/1.5.6/api/table.html#agate.Table.column_chart), [`Table.line_chart`](http://agate.readthedocs.io/en/1.5.6/api/table.html#agate.Table.line_chart), and [`Table.scatterplot`](http://agate.readthedocs.io/en/1.5.6/api/table.html#agate.Table.scatterplot).\n",
    "\n",
    "Let's create charts from a few slices of data we've made in this tutorial."
   ]
  },
  {
   "cell_type": "markdown",
   "metadata": {},
   "source": [
    "### Exonerations by state"
   ]
  },
  {
   "cell_type": "code",
   "execution_count": 35,
   "metadata": {
    "collapsed": false
   },
   "outputs": [
    {
     "data": {
      "image/svg+xml": [
       "<svg height=\"1000\" version=\"1.1\" width=\"800\" xmlns=\"http://www.w3.org/2000/svg\"><g><rect fill=\"#f9f9f9\" height=\"1000\" width=\"800\" x=\"0\" y=\"0\"/><g transform=\"translate(40 40)\"><g transform=\"translate(62 0)\"/><g transform=\"translate(0 0)\"><g transform=\"translate(62 0)\"><g class=\"axis bottom\"><text dy=\"1em\" fill=\"#666\" font-family=\"Monaco\" text-anchor=\"middle\" transform=\"\" x=\"329.0\" y=\"906.0\">count</text><g class=\"tick\"><line stroke=\"#eee\" stroke-width=\"1\" x1=\"219.3333333333333333333333333\" x2=\"219.3333333333333333333333333\" y1=\"0\" y2=\"872.0\"/><text dy=\"1em\" fill=\"#9c9c9c\" font-family=\"Monaco\" text-anchor=\"middle\" x=\"219.3333333333333333333333333\" y=\"876.0\">100</text></g><g class=\"tick\"><line stroke=\"#eee\" stroke-width=\"1\" x1=\"438.6666666666666666666666667\" x2=\"438.6666666666666666666666667\" y1=\"0\" y2=\"872.0\"/><text dy=\"1em\" fill=\"#9c9c9c\" font-family=\"Monaco\" text-anchor=\"middle\" x=\"438.6666666666666666666666667\" y=\"876.0\">200</text></g><g class=\"tick\"><line stroke=\"#eee\" stroke-width=\"1\" x1=\"658\" x2=\"658\" y1=\"0\" y2=\"872.0\"/><text dy=\"1em\" fill=\"#9c9c9c\" font-family=\"Monaco\" text-anchor=\"middle\" x=\"658\" y=\"876.0\">300</text></g><g class=\"tick\"><line stroke=\"#a8a8a8\" stroke-width=\"1\" x1=\"0\" x2=\"0\" y1=\"0\" y2=\"872.0\"/><text dy=\"1em\" fill=\"#9c9c9c\" font-family=\"Monaco\" text-anchor=\"middle\" x=\"0\" y=\"876.0\">0</text></g></g><g class=\"axis left\"><text dy=\"\" fill=\"#666\" font-family=\"Monaco\" text-anchor=\"middle\" transform=\"rotate(270 -40 434)\" x=\"-40\" y=\"434.0\">state</text><g class=\"tick\"><line stroke=\"#eee\" stroke-width=\"1\" x1=\"-4\" x2=\"658.0\" y1=\"859.9629629629629629629629630\" y2=\"859.9629629629629629629629630\"/><text dy=\"0.32em\" fill=\"#9c9c9c\" font-family=\"Monaco\" text-anchor=\"end\" x=\"-8\" y=\"859.9629629629629629629629630\">GU</text></g><g class=\"tick\"><line stroke=\"#eee\" stroke-width=\"1\" x1=\"-4\" x2=\"658.0\" y1=\"843.8888888888888888888888889\" y2=\"843.8888888888888888888888889\"/><text dy=\"0.32em\" fill=\"#9c9c9c\" font-family=\"Monaco\" text-anchor=\"end\" x=\"-8\" y=\"843.8888888888888888888888889\">VT</text></g><g class=\"tick\"><line stroke=\"#eee\" stroke-width=\"1\" x1=\"-4\" x2=\"658.0\" y1=\"827.8148148148148148148148149\" y2=\"827.8148148148148148148148149\"/><text dy=\"0.32em\" fill=\"#9c9c9c\" font-family=\"Monaco\" text-anchor=\"end\" x=\"-8\" y=\"827.8148148148148148148148149\">DE</text></g><g class=\"tick\"><line stroke=\"#eee\" stroke-width=\"1\" x1=\"-4\" x2=\"658.0\" y1=\"811.7407407407407407407407408\" y2=\"811.7407407407407407407407408\"/><text dy=\"0.32em\" fill=\"#9c9c9c\" font-family=\"Monaco\" text-anchor=\"end\" x=\"-8\" y=\"811.7407407407407407407407408\">NH</text></g><g class=\"tick\"><line stroke=\"#eee\" stroke-width=\"1\" x1=\"-4\" x2=\"658.0\" y1=\"795.6666666666666666666666667\" y2=\"795.6666666666666666666666667\"/><text dy=\"0.32em\" fill=\"#9c9c9c\" font-family=\"Monaco\" text-anchor=\"end\" x=\"-8\" y=\"795.6666666666666666666666667\">ME</text></g><g class=\"tick\"><line stroke=\"#eee\" stroke-width=\"1\" x1=\"-4\" x2=\"658.0\" y1=\"779.5925925925925925925925926\" y2=\"779.5925925925925925925925926\"/><text dy=\"0.32em\" fill=\"#9c9c9c\" font-family=\"Monaco\" text-anchor=\"end\" x=\"-8\" y=\"779.5925925925925925925925926\">ID</text></g><g class=\"tick\"><line stroke=\"#eee\" stroke-width=\"1\" x1=\"-4\" x2=\"658.0\" y1=\"763.5185185185185185185185186\" y2=\"763.5185185185185185185185186\"/><text dy=\"0.32em\" fill=\"#9c9c9c\" font-family=\"Monaco\" text-anchor=\"end\" x=\"-8\" y=\"763.5185185185185185185185186\">WY</text></g><g class=\"tick\"><line stroke=\"#eee\" stroke-width=\"1\" x1=\"-4\" x2=\"658.0\" y1=\"747.4444444444444444444444445\" y2=\"747.4444444444444444444444445\"/><text dy=\"0.32em\" fill=\"#9c9c9c\" font-family=\"Monaco\" text-anchor=\"end\" x=\"-8\" y=\"747.4444444444444444444444445\">PR</text></g><g class=\"tick\"><line stroke=\"#eee\" stroke-width=\"1\" x1=\"-4\" x2=\"658.0\" y1=\"731.3703703703703703703703704\" y2=\"731.3703703703703703703703704\"/><text dy=\"0.32em\" fill=\"#9c9c9c\" font-family=\"Monaco\" text-anchor=\"end\" x=\"-8\" y=\"731.3703703703703703703703704\">ND</text></g><g class=\"tick\"><line stroke=\"#eee\" stroke-width=\"1\" x1=\"-4\" x2=\"658.0\" y1=\"715.2962962962962962962962964\" y2=\"715.2962962962962962962962964\"/><text dy=\"0.32em\" fill=\"#9c9c9c\" font-family=\"Monaco\" text-anchor=\"end\" x=\"-8\" y=\"715.2962962962962962962962964\">HI</text></g><g class=\"tick\"><line stroke=\"#eee\" stroke-width=\"1\" x1=\"-4\" x2=\"658.0\" y1=\"699.2222222222222222222222223\" y2=\"699.2222222222222222222222223\"/><text dy=\"0.32em\" fill=\"#9c9c9c\" font-family=\"Monaco\" text-anchor=\"end\" x=\"-8\" y=\"699.2222222222222222222222223\">AK</text></g><g class=\"tick\"><line stroke=\"#eee\" stroke-width=\"1\" x1=\"-4\" x2=\"658.0\" y1=\"683.1481481481481481481481482\" y2=\"683.1481481481481481481481482\"/><text dy=\"0.32em\" fill=\"#9c9c9c\" font-family=\"Monaco\" text-anchor=\"end\" x=\"-8\" y=\"683.1481481481481481481481482\">MIL</text></g><g class=\"tick\"><line stroke=\"#eee\" stroke-width=\"1\" x1=\"-4\" x2=\"658.0\" y1=\"667.0740740740740740740740742\" y2=\"667.0740740740740740740740742\"/><text dy=\"0.32em\" fill=\"#9c9c9c\" font-family=\"Monaco\" text-anchor=\"end\" x=\"-8\" y=\"667.0740740740740740740740742\">CO</text></g><g class=\"tick\"><line stroke=\"#eee\" stroke-width=\"1\" x1=\"-4\" x2=\"658.0\" y1=\"651.0000000000000000000000001\" y2=\"651.0000000000000000000000001\"/><text dy=\"0.32em\" fill=\"#9c9c9c\" font-family=\"Monaco\" text-anchor=\"end\" x=\"-8\" y=\"651.0000000000000000000000001\">NM</text></g><g class=\"tick\"><line stroke=\"#eee\" stroke-width=\"1\" x1=\"-4\" x2=\"658.0\" y1=\"634.9259259259259259259259260\" y2=\"634.9259259259259259259259260\"/><text dy=\"0.32em\" fill=\"#9c9c9c\" font-family=\"Monaco\" text-anchor=\"end\" x=\"-8\" y=\"634.9259259259259259259259260\">SD</text></g><g class=\"tick\"><line stroke=\"#eee\" stroke-width=\"1\" x1=\"-4\" x2=\"658.0\" y1=\"618.8518518518518518518518520\" y2=\"618.8518518518518518518518520\"/><text dy=\"0.32em\" fill=\"#9c9c9c\" font-family=\"Monaco\" text-anchor=\"end\" x=\"-8\" y=\"618.8518518518518518518518520\">RI</text></g><g class=\"tick\"><line stroke=\"#eee\" stroke-width=\"1\" x1=\"-4\" x2=\"658.0\" y1=\"602.7777777777777777777777779\" y2=\"602.7777777777777777777777779\"/><text dy=\"0.32em\" fill=\"#9c9c9c\" font-family=\"Monaco\" text-anchor=\"end\" x=\"-8\" y=\"602.7777777777777777777777779\">AR</text></g><g class=\"tick\"><line stroke=\"#eee\" stroke-width=\"1\" x1=\"-4\" x2=\"658.0\" y1=\"586.7037037037037037037037038\" y2=\"586.7037037037037037037037038\"/><text dy=\"0.32em\" fill=\"#9c9c9c\" font-family=\"Monaco\" text-anchor=\"end\" x=\"-8\" y=\"586.7037037037037037037037038\">SC</text></g><g class=\"tick\"><line stroke=\"#eee\" stroke-width=\"1\" x1=\"-4\" x2=\"658.0\" y1=\"570.6296296296296296296296297\" y2=\"570.6296296296296296296296297\"/><text dy=\"0.32em\" fill=\"#9c9c9c\" font-family=\"Monaco\" text-anchor=\"end\" x=\"-8\" y=\"570.6296296296296296296296297\">KS</text></g><g class=\"tick\"><line stroke=\"#eee\" stroke-width=\"1\" x1=\"-4\" x2=\"658.0\" y1=\"554.5555555555555555555555557\" y2=\"554.5555555555555555555555557\"/><text dy=\"0.32em\" fill=\"#9c9c9c\" font-family=\"Monaco\" text-anchor=\"end\" x=\"-8\" y=\"554.5555555555555555555555557\">MT</text></g><g class=\"tick\"><line stroke=\"#eee\" stroke-width=\"1\" x1=\"-4\" x2=\"658.0\" y1=\"538.4814814814814814814814816\" y2=\"538.4814814814814814814814816\"/><text dy=\"0.32em\" fill=\"#9c9c9c\" font-family=\"Monaco\" text-anchor=\"end\" x=\"-8\" y=\"538.4814814814814814814814816\">NE</text></g><g class=\"tick\"><line stroke=\"#eee\" stroke-width=\"1\" x1=\"-4\" x2=\"658.0\" y1=\"522.4074074074074074074074075\" y2=\"522.4074074074074074074074075\"/><text dy=\"0.32em\" fill=\"#9c9c9c\" font-family=\"Monaco\" text-anchor=\"end\" x=\"-8\" y=\"522.4074074074074074074074075\">NV</text></g><g class=\"tick\"><line stroke=\"#eee\" stroke-width=\"1\" x1=\"-4\" x2=\"658.0\" y1=\"506.3333333333333333333333335\" y2=\"506.3333333333333333333333335\"/><text dy=\"0.32em\" fill=\"#9c9c9c\" font-family=\"Monaco\" text-anchor=\"end\" x=\"-8\" y=\"506.3333333333333333333333335\">WV</text></g><g class=\"tick\"><line stroke=\"#eee\" stroke-width=\"1\" x1=\"-4\" x2=\"658.0\" y1=\"490.2592592592592592592592594\" y2=\"490.2592592592592592592592594\"/><text dy=\"0.32em\" fill=\"#9c9c9c\" font-family=\"Monaco\" text-anchor=\"end\" x=\"-8\" y=\"490.2592592592592592592592594\">MN</text></g><g class=\"tick\"><line stroke=\"#eee\" stroke-width=\"1\" x1=\"-4\" x2=\"658.0\" y1=\"474.1851851851851851851851853\" y2=\"474.1851851851851851851851853\"/><text dy=\"0.32em\" fill=\"#9c9c9c\" font-family=\"Monaco\" text-anchor=\"end\" x=\"-8\" y=\"474.1851851851851851851851853\">OR</text></g><g class=\"tick\"><line stroke=\"#eee\" stroke-width=\"1\" x1=\"-4\" x2=\"658.0\" y1=\"458.1111111111111111111111112\" y2=\"458.1111111111111111111111112\"/><text dy=\"0.32em\" fill=\"#9c9c9c\" font-family=\"Monaco\" text-anchor=\"end\" x=\"-8\" y=\"458.1111111111111111111111112\">KY</text></g><g class=\"tick\"><line stroke=\"#eee\" stroke-width=\"1\" x1=\"-4\" x2=\"658.0\" y1=\"442.0370370370370370370370372\" y2=\"442.0370370370370370370370372\"/><text dy=\"0.32em\" fill=\"#9c9c9c\" font-family=\"Monaco\" text-anchor=\"end\" x=\"-8\" y=\"442.0370370370370370370370372\">UT</text></g><g class=\"tick\"><line stroke=\"#eee\" stroke-width=\"1\" x1=\"-4\" x2=\"658.0\" y1=\"425.9629629629629629629629631\" y2=\"425.9629629629629629629629631\"/><text dy=\"0.32em\" fill=\"#9c9c9c\" font-family=\"Monaco\" text-anchor=\"end\" x=\"-8\" y=\"425.9629629629629629629629631\">IA</text></g><g class=\"tick\"><line stroke=\"#eee\" stroke-width=\"1\" x1=\"-4\" x2=\"658.0\" y1=\"409.8888888888888888888888890\" y2=\"409.8888888888888888888888890\"/><text dy=\"0.32em\" fill=\"#9c9c9c\" font-family=\"Monaco\" text-anchor=\"end\" x=\"-8\" y=\"409.8888888888888888888888890\">MS</text></g><g class=\"tick\"><line stroke=\"#eee\" stroke-width=\"1\" x1=\"-4\" x2=\"658.0\" y1=\"393.8148148148148148148148150\" y2=\"393.8148148148148148148148150\"/><text dy=\"0.32em\" fill=\"#9c9c9c\" font-family=\"Monaco\" text-anchor=\"end\" x=\"-8\" y=\"393.8148148148148148148148150\">TN</text></g><g class=\"tick\"><line stroke=\"#eee\" stroke-width=\"1\" x1=\"-4\" x2=\"658.0\" y1=\"377.7407407407407407407407409\" y2=\"377.7407407407407407407407409\"/><text dy=\"0.32em\" fill=\"#9c9c9c\" font-family=\"Monaco\" text-anchor=\"end\" x=\"-8\" y=\"377.7407407407407407407407409\">IN</text></g><g class=\"tick\"><line stroke=\"#eee\" stroke-width=\"1\" x1=\"-4\" x2=\"658.0\" y1=\"361.6666666666666666666666668\" y2=\"361.6666666666666666666666668\"/><text dy=\"0.32em\" fill=\"#9c9c9c\" font-family=\"Monaco\" text-anchor=\"end\" x=\"-8\" y=\"361.6666666666666666666666668\">CT</text></g><g class=\"tick\"><line stroke=\"#eee\" stroke-width=\"1\" x1=\"-4\" x2=\"658.0\" y1=\"345.5925925925925925925925928\" y2=\"345.5925925925925925925925928\"/><text dy=\"0.32em\" fill=\"#9c9c9c\" font-family=\"Monaco\" text-anchor=\"end\" x=\"-8\" y=\"345.5925925925925925925925928\">DC</text></g><g class=\"tick\"><line stroke=\"#eee\" stroke-width=\"1\" x1=\"-4\" x2=\"658.0\" y1=\"329.5185185185185185185185187\" y2=\"329.5185185185185185185185187\"/><text dy=\"0.32em\" fill=\"#9c9c9c\" font-family=\"Monaco\" text-anchor=\"end\" x=\"-8\" y=\"329.5185185185185185185185187\">NJ</text></g><g class=\"tick\"><line stroke=\"#eee\" stroke-width=\"1\" x1=\"-4\" x2=\"658.0\" y1=\"313.4444444444444444444444446\" y2=\"313.4444444444444444444444446\"/><text dy=\"0.32em\" fill=\"#9c9c9c\" font-family=\"Monaco\" text-anchor=\"end\" x=\"-8\" y=\"313.4444444444444444444444446\">AZ</text></g><g class=\"tick\"><line stroke=\"#eee\" stroke-width=\"1\" x1=\"-4\" x2=\"658.0\" y1=\"297.3703703703703703703703706\" y2=\"297.3703703703703703703703706\"/><text dy=\"0.32em\" fill=\"#9c9c9c\" font-family=\"Monaco\" text-anchor=\"end\" x=\"-8\" y=\"297.3703703703703703703703706\">MD</text></g><g class=\"tick\"><line stroke=\"#eee\" stroke-width=\"1\" x1=\"-4\" x2=\"658.0\" y1=\"281.2962962962962962962962965\" y2=\"281.2962962962962962962962965\"/><text dy=\"0.32em\" fill=\"#9c9c9c\" font-family=\"Monaco\" text-anchor=\"end\" x=\"-8\" y=\"281.2962962962962962962962965\">AL</text></g><g class=\"tick\"><line stroke=\"#eee\" stroke-width=\"1\" x1=\"-4\" x2=\"658.0\" y1=\"265.2222222222222222222222224\" y2=\"265.2222222222222222222222224\"/><text dy=\"0.32em\" fill=\"#9c9c9c\" font-family=\"Monaco\" text-anchor=\"end\" x=\"-8\" y=\"265.2222222222222222222222224\">GA</text></g><g class=\"tick\"><line stroke=\"#eee\" stroke-width=\"1\" x1=\"-4\" x2=\"658.0\" y1=\"249.1481481481481481481481483\" y2=\"249.1481481481481481481481483\"/><text dy=\"0.32em\" fill=\"#9c9c9c\" font-family=\"Monaco\" text-anchor=\"end\" x=\"-8\" y=\"249.1481481481481481481481483\">OK</text></g><g class=\"tick\"><line stroke=\"#eee\" stroke-width=\"1\" x1=\"-4\" x2=\"658.0\" y1=\"233.0740740740740740740740743\" y2=\"233.0740740740740740740740743\"/><text dy=\"0.32em\" fill=\"#9c9c9c\" font-family=\"Monaco\" text-anchor=\"end\" x=\"-8\" y=\"233.0740740740740740740740743\">NC</text></g><g class=\"tick\"><line stroke=\"#eee\" stroke-width=\"1\" x1=\"-4\" x2=\"658.0\" y1=\"217.0000000000000000000000002\" y2=\"217.0000000000000000000000002\"/><text dy=\"0.32em\" fill=\"#9c9c9c\" font-family=\"Monaco\" text-anchor=\"end\" x=\"-8\" y=\"217.0000000000000000000000002\">MO</text></g><g class=\"tick\"><line stroke=\"#eee\" stroke-width=\"1\" x1=\"-4\" x2=\"658.0\" y1=\"200.9259259259259259259259261\" y2=\"200.9259259259259259259259261\"/><text dy=\"0.32em\" fill=\"#9c9c9c\" font-family=\"Monaco\" text-anchor=\"end\" x=\"-8\" y=\"200.9259259259259259259259261\">WA</text></g><g class=\"tick\"><line stroke=\"#eee\" stroke-width=\"1\" x1=\"-4\" x2=\"658.0\" y1=\"184.8518518518518518518518521\" y2=\"184.8518518518518518518518521\"/><text dy=\"0.32em\" fill=\"#9c9c9c\" font-family=\"Monaco\" text-anchor=\"end\" x=\"-8\" y=\"184.8518518518518518518518521\">VA</text></g><g class=\"tick\"><line stroke=\"#eee\" stroke-width=\"1\" x1=\"-4\" x2=\"658.0\" y1=\"168.7777777777777777777777780\" y2=\"168.7777777777777777777777780\"/><text dy=\"0.32em\" fill=\"#9c9c9c\" font-family=\"Monaco\" text-anchor=\"end\" x=\"-8\" y=\"168.7777777777777777777777780\">MA</text></g><g class=\"tick\"><line stroke=\"#eee\" stroke-width=\"1\" x1=\"-4\" x2=\"658.0\" y1=\"152.7037037037037037037037039\" y2=\"152.7037037037037037037037039\"/><text dy=\"0.32em\" fill=\"#9c9c9c\" font-family=\"Monaco\" text-anchor=\"end\" x=\"-8\" y=\"152.7037037037037037037037039\">WI</text></g><g class=\"tick\"><line stroke=\"#eee\" stroke-width=\"1\" x1=\"-4\" x2=\"658.0\" y1=\"136.6296296296296296296296298\" y2=\"136.6296296296296296296296298\"/><text dy=\"0.32em\" fill=\"#9c9c9c\" font-family=\"Monaco\" text-anchor=\"end\" x=\"-8\" y=\"136.6296296296296296296296298\">LA</text></g><g class=\"tick\"><line stroke=\"#eee\" stroke-width=\"1\" x1=\"-4\" x2=\"658.0\" y1=\"120.5555555555555555555555558\" y2=\"120.5555555555555555555555558\"/><text dy=\"0.32em\" fill=\"#9c9c9c\" font-family=\"Monaco\" text-anchor=\"end\" x=\"-8\" y=\"120.5555555555555555555555558\">OH</text></g><g class=\"tick\"><line stroke=\"#eee\" stroke-width=\"1\" x1=\"-4\" x2=\"658.0\" y1=\"104.4814814814814814814814817\" y2=\"104.4814814814814814814814817\"/><text dy=\"0.32em\" fill=\"#9c9c9c\" font-family=\"Monaco\" text-anchor=\"end\" x=\"-8\" y=\"104.4814814814814814814814817\">PA</text></g><g class=\"tick\"><line stroke=\"#eee\" stroke-width=\"1\" x1=\"-4\" x2=\"658.0\" y1=\"88.40740740740740740740740756\" y2=\"88.40740740740740740740740756\"/><text dy=\"0.32em\" fill=\"#9c9c9c\" font-family=\"Monaco\" text-anchor=\"end\" x=\"-8\" y=\"88.40740740740740740740740756\">FL</text></g><g class=\"tick\"><line stroke=\"#eee\" stroke-width=\"1\" x1=\"-4\" x2=\"658.0\" y1=\"72.33333333333333333333333356\" y2=\"72.33333333333333333333333356\"/><text dy=\"0.32em\" fill=\"#9c9c9c\" font-family=\"Monaco\" text-anchor=\"end\" x=\"-8\" y=\"72.33333333333333333333333356\">MI</text></g><g class=\"tick\"><line stroke=\"#eee\" stroke-width=\"1\" x1=\"-4\" x2=\"658.0\" y1=\"56.25925925925925925925925946\" y2=\"56.25925925925925925925925946\"/><text dy=\"0.32em\" fill=\"#9c9c9c\" font-family=\"Monaco\" text-anchor=\"end\" x=\"-8\" y=\"56.25925925925925925925925946\">IL</text></g><g class=\"tick\"><line stroke=\"#eee\" stroke-width=\"1\" x1=\"-4\" x2=\"658.0\" y1=\"40.18518518518518518518518536\" y2=\"40.18518518518518518518518536\"/><text dy=\"0.32em\" fill=\"#9c9c9c\" font-family=\"Monaco\" text-anchor=\"end\" x=\"-8\" y=\"40.18518518518518518518518536\">CA</text></g><g class=\"tick\"><line stroke=\"#eee\" stroke-width=\"1\" x1=\"-4\" x2=\"658.0\" y1=\"24.11111111111111111111111136\" y2=\"24.11111111111111111111111136\"/><text dy=\"0.32em\" fill=\"#9c9c9c\" font-family=\"Monaco\" text-anchor=\"end\" x=\"-8\" y=\"24.11111111111111111111111136\">NY</text></g><g class=\"tick\"><line stroke=\"#eee\" stroke-width=\"1\" x1=\"-4\" x2=\"658.0\" y1=\"8.037037037037037037037037265\" y2=\"8.037037037037037037037037265\"/><text dy=\"0.32em\" fill=\"#9c9c9c\" font-family=\"Monaco\" text-anchor=\"end\" x=\"-8\" y=\"8.037037037037037037037037265\">TX</text></g></g><g><g class=\"series bars\"><rect fill=\"#e41a1c\" height=\"14.4666666666666666666666667\" width=\"2.193333333333333333333333333\" x=\"0\" y=\"852.7296296296296296296296296\"/><rect fill=\"#e41a1c\" height=\"14.4666666666666666666666666\" width=\"2.193333333333333333333333333\" x=\"0\" y=\"836.6555555555555555555555556\"/><rect fill=\"#e41a1c\" height=\"14.4666666666666666666666667\" width=\"2.193333333333333333333333333\" x=\"0\" y=\"820.5814814814814814814814815\"/><rect fill=\"#e41a1c\" height=\"14.4666666666666666666666667\" width=\"2.193333333333333333333333333\" x=\"0\" y=\"804.5074074074074074074074074\"/><rect fill=\"#e41a1c\" height=\"14.4666666666666666666666667\" width=\"4.386666666666666666666666667\" x=\"0\" y=\"788.4333333333333333333333333\"/><rect fill=\"#e41a1c\" height=\"14.4666666666666666666666666\" width=\"4.386666666666666666666666667\" x=\"0\" y=\"772.3592592592592592592592593\"/><rect fill=\"#e41a1c\" height=\"14.4666666666666666666666667\" width=\"6.58\" x=\"0\" y=\"756.2851851851851851851851852\"/><rect fill=\"#e41a1c\" height=\"14.4666666666666666666666667\" width=\"6.58\" x=\"0\" y=\"740.2111111111111111111111111\"/><rect fill=\"#e41a1c\" height=\"14.4666666666666666666666666\" width=\"6.58\" x=\"0\" y=\"724.1370370370370370370370371\"/><rect fill=\"#e41a1c\" height=\"14.4666666666666666666666667\" width=\"6.58\" x=\"0\" y=\"708.0629629629629629629629630\"/><rect fill=\"#e41a1c\" height=\"14.4666666666666666666666667\" width=\"8.773333333333333333333333331\" x=\"0\" y=\"691.9888888888888888888888889\"/><rect fill=\"#e41a1c\" height=\"14.4666666666666666666666666\" width=\"8.773333333333333333333333331\" x=\"0\" y=\"675.9148148148148148148148149\"/><rect fill=\"#e41a1c\" height=\"14.4666666666666666666666667\" width=\"8.773333333333333333333333331\" x=\"0\" y=\"659.8407407407407407407407408\"/><rect fill=\"#e41a1c\" height=\"14.4666666666666666666666667\" width=\"8.773333333333333333333333331\" x=\"0\" y=\"643.7666666666666666666666667\"/><rect fill=\"#e41a1c\" height=\"14.4666666666666666666666666\" width=\"10.96666666666666666666666667\" x=\"0\" y=\"627.6925925925925925925925927\"/><rect fill=\"#e41a1c\" height=\"14.4666666666666666666666667\" width=\"10.96666666666666666666666667\" x=\"0\" y=\"611.6185185185185185185185186\"/><rect fill=\"#e41a1c\" height=\"14.4666666666666666666666667\" width=\"10.96666666666666666666666667\" x=\"0\" y=\"595.5444444444444444444444445\"/><rect fill=\"#e41a1c\" height=\"14.4666666666666666666666667\" width=\"13.16\" x=\"0\" y=\"579.4703703703703703703703704\"/><rect fill=\"#e41a1c\" height=\"14.4666666666666666666666666\" width=\"13.16\" x=\"0\" y=\"563.3962962962962962962962964\"/><rect fill=\"#e41a1c\" height=\"14.4666666666666666666666667\" width=\"13.16\" x=\"0\" y=\"547.3222222222222222222222223\"/><rect fill=\"#e41a1c\" height=\"14.4666666666666666666666667\" width=\"19.74\" x=\"0\" y=\"531.2481481481481481481481482\"/><rect fill=\"#e41a1c\" height=\"14.4666666666666666666666666\" width=\"19.74\" x=\"0\" y=\"515.1740740740740740740740742\"/><rect fill=\"#e41a1c\" height=\"14.4666666666666666666666667\" width=\"19.74\" x=\"0\" y=\"499.1000000000000000000000001\"/><rect fill=\"#e41a1c\" height=\"14.4666666666666666666666667\" width=\"19.74\" x=\"0\" y=\"483.0259259259259259259259260\"/><rect fill=\"#e41a1c\" height=\"14.4666666666666666666666667\" width=\"21.93333333333333333333333333\" x=\"0\" y=\"466.9518518518518518518518519\"/><rect fill=\"#e41a1c\" height=\"14.4666666666666666666666666\" width=\"24.12666666666666666666666667\" x=\"0\" y=\"450.8777777777777777777777779\"/><rect fill=\"#e41a1c\" height=\"14.4666666666666666666666667\" width=\"24.12666666666666666666666667\" x=\"0\" y=\"434.8037037037037037037037038\"/><rect fill=\"#e41a1c\" height=\"14.4666666666666666666666667\" width=\"26.32\" x=\"0\" y=\"418.7296296296296296296296297\"/><rect fill=\"#e41a1c\" height=\"14.4666666666666666666666666\" width=\"32.90\" x=\"0\" y=\"402.6555555555555555555555557\"/><rect fill=\"#e41a1c\" height=\"14.4666666666666666666666667\" width=\"39.48\" x=\"0\" y=\"386.5814814814814814814814816\"/><rect fill=\"#e41a1c\" height=\"14.4666666666666666666666667\" width=\"39.48\" x=\"0\" y=\"370.5074074074074074074074075\"/><rect fill=\"#e41a1c\" height=\"14.4666666666666666666666666\" width=\"39.48\" x=\"0\" y=\"354.4333333333333333333333335\"/><rect fill=\"#e41a1c\" height=\"14.4666666666666666666666667\" width=\"41.67333333333333333333333333\" x=\"0\" y=\"338.3592592592592592592592594\"/><rect fill=\"#e41a1c\" height=\"14.4666666666666666666666667\" width=\"43.86666666666666666666666667\" x=\"0\" y=\"322.2851851851851851851851853\"/><rect fill=\"#e41a1c\" height=\"14.4666666666666666666666666\" width=\"46.06\" x=\"0\" y=\"306.2111111111111111111111113\"/><rect fill=\"#e41a1c\" height=\"14.4666666666666666666666667\" width=\"46.06\" x=\"0\" y=\"290.1370370370370370370370372\"/><rect fill=\"#e41a1c\" height=\"14.4666666666666666666666667\" width=\"50.44666666666666666666666667\" x=\"0\" y=\"274.0629629629629629629629631\"/><rect fill=\"#e41a1c\" height=\"14.4666666666666666666666667\" width=\"57.02666666666666666666666667\" x=\"0\" y=\"257.9888888888888888888888890\"/><rect fill=\"#e41a1c\" height=\"14.4666666666666666666666666\" width=\"61.41333333333333333333333333\" x=\"0\" y=\"241.9148148148148148148148150\"/><rect fill=\"#e41a1c\" height=\"14.4666666666666666666666667\" width=\"74.57333333333333333333333331\" x=\"0\" y=\"225.8407407407407407407407409\"/><rect fill=\"#e41a1c\" height=\"14.4666666666666666666666667\" width=\"81.15333333333333333333333331\" x=\"0\" y=\"209.7666666666666666666666668\"/><rect fill=\"#e41a1c\" height=\"14.4666666666666666666666666\" width=\"83.34666666666666666666666669\" x=\"0\" y=\"193.6925925925925925925925928\"/><rect fill=\"#e41a1c\" height=\"14.4666666666666666666666667\" width=\"89.92666666666666666666666669\" x=\"0\" y=\"177.6185185185185185185185187\"/><rect fill=\"#e41a1c\" height=\"14.4666666666666666666666667\" width=\"96.50666666666666666666666669\" x=\"0\" y=\"161.5444444444444444444444446\"/><rect fill=\"#e41a1c\" height=\"14.4666666666666666666666667\" width=\"103.0866666666666666666666667\" x=\"0\" y=\"145.4703703703703703703703705\"/><rect fill=\"#e41a1c\" height=\"14.4666666666666666666666666\" width=\"111.86\" x=\"0\" y=\"129.3962962962962962962962965\"/><rect fill=\"#e41a1c\" height=\"14.4666666666666666666666667\" width=\"120.6333333333333333333333333\" x=\"0\" y=\"113.3222222222222222222222224\"/><rect fill=\"#e41a1c\" height=\"14.46666666666666666666666670\" width=\"125.02\" x=\"0\" y=\"97.24814814814814814814814830\"/><rect fill=\"#e41a1c\" height=\"14.46666666666666666666666660\" width=\"131.6\" x=\"0\" y=\"81.17407407407407407407407430\"/><rect fill=\"#e41a1c\" height=\"14.46666666666666666666666670\" width=\"138.18\" x=\"0\" y=\"65.10000000000000000000000020\"/><rect fill=\"#e41a1c\" height=\"14.46666666666666666666666670\" width=\"346.5466666666666666666666667\" x=\"0\" y=\"49.02592592592592592592592610\"/><rect fill=\"#e41a1c\" height=\"14.46666666666666666666666660\" width=\"359.7066666666666666666666667\" x=\"0\" y=\"32.95185185185185185185185210\"/><rect fill=\"#e41a1c\" height=\"14.46666666666666666666666670\" width=\"458.4066666666666666666666667\" x=\"0\" y=\"16.87777777777777777777777800\"/><rect fill=\"#e41a1c\" height=\"14.46666666666666666666666670\" width=\"475.9533333333333333333333333\" x=\"0\" y=\"0.8037037037037037037037039035\"/></g></g></g></g></g></g></svg>"
      ],
      "text/plain": [
       "<IPython.core.display.SVG object>"
      ]
     },
     "execution_count": 35,
     "metadata": {},
     "output_type": "execute_result"
    }
   ],
   "source": [
    "sorted_totals.bar_chart('state', 'count', height=1000)"
   ]
  },
  {
   "cell_type": "markdown",
   "metadata": {},
   "source": [
    "Leather will try to maintain a reasonable aspect ratio for chart. In this case the chart is too short to display correctly. We've used the `height` argument to make the chart a little taller."
   ]
  },
  {
   "cell_type": "markdown",
   "metadata": {},
   "source": [
    "### Exonerations by age bracket\n",
    "\n",
    "When creating a chart you may omit the column name arguments. If you do so the first and second columns in the table will be used. This is especially useful for charting the output of [`TableSet.aggregate`](http://agate.readthedocs.io/en/1.5.6/api/tableset.html#agate.TableSet.aggregate) or [`Table.bins`](http://agate.readthedocs.io/en/1.5.6/api/table.html#agate.Table.bins)."
   ]
  },
  {
   "cell_type": "code",
   "execution_count": 36,
   "metadata": {
    "collapsed": false
   },
   "outputs": [
    {
     "data": {
      "image/svg+xml": [
       "<svg height=\"600\" version=\"1.1\" width=\"800\" xmlns=\"http://www.w3.org/2000/svg\"><g><rect fill=\"#f9f9f9\" height=\"600\" width=\"800\" x=\"0\" y=\"0\"/><g transform=\"translate(40 40)\"><g transform=\"translate(110 0)\"/><g transform=\"translate(0 0)\"><g transform=\"translate(110 0)\"><g class=\"axis bottom\"><text dy=\"1em\" fill=\"#666\" font-family=\"Monaco\" text-anchor=\"middle\" transform=\"\" x=\"305.0\" y=\"506.0\">Count</text><g class=\"tick\"><line stroke=\"#eee\" stroke-width=\"1\" x1=\"203.3333333333333333333333333\" x2=\"203.3333333333333333333333333\" y1=\"0\" y2=\"472.0\"/><text dy=\"1em\" fill=\"#9c9c9c\" font-family=\"Monaco\" text-anchor=\"middle\" x=\"203.3333333333333333333333333\" y=\"476.0\">250</text></g><g class=\"tick\"><line stroke=\"#eee\" stroke-width=\"1\" x1=\"406.6666666666666666666666667\" x2=\"406.6666666666666666666666667\" y1=\"0\" y2=\"472.0\"/><text dy=\"1em\" fill=\"#9c9c9c\" font-family=\"Monaco\" text-anchor=\"middle\" x=\"406.6666666666666666666666667\" y=\"476.0\">500</text></g><g class=\"tick\"><line stroke=\"#eee\" stroke-width=\"1\" x1=\"610\" x2=\"610\" y1=\"0\" y2=\"472.0\"/><text dy=\"1em\" fill=\"#9c9c9c\" font-family=\"Monaco\" text-anchor=\"middle\" x=\"610\" y=\"476.0\">750</text></g><g class=\"tick\"><line stroke=\"#a8a8a8\" stroke-width=\"1\" x1=\"0\" x2=\"0\" y1=\"0\" y2=\"472.0\"/><text dy=\"1em\" fill=\"#9c9c9c\" font-family=\"Monaco\" text-anchor=\"middle\" x=\"0\" y=\"476.0\">0</text></g></g><g class=\"axis left\"><text dy=\"\" fill=\"#666\" font-family=\"Monaco\" text-anchor=\"middle\" transform=\"rotate(270 -88 234)\" x=\"-88\" y=\"234.0\">age</text><g class=\"tick\"><line stroke=\"#eee\" stroke-width=\"1\" x1=\"-4\" x2=\"610.0\" y1=\"442\" y2=\"442\"/><text dy=\"0.32em\" fill=\"#9c9c9c\" font-family=\"Monaco\" text-anchor=\"end\" x=\"-8\" y=\"442\">None</text></g><g class=\"tick\"><line stroke=\"#eee\" stroke-width=\"1\" x1=\"-4\" x2=\"610.0\" y1=\"390\" y2=\"390\"/><text dy=\"0.32em\" fill=\"#9c9c9c\" font-family=\"Monaco\" text-anchor=\"end\" x=\"-8\" y=\"390\">[82 - 91)</text></g><g class=\"tick\"><line stroke=\"#eee\" stroke-width=\"1\" x1=\"-4\" x2=\"610.0\" y1=\"338\" y2=\"338\"/><text dy=\"0.32em\" fill=\"#9c9c9c\" font-family=\"Monaco\" text-anchor=\"end\" x=\"-8\" y=\"338\">[64 - 73)</text></g><g class=\"tick\"><line stroke=\"#eee\" stroke-width=\"1\" x1=\"-4\" x2=\"610.0\" y1=\"286\" y2=\"286\"/><text dy=\"0.32em\" fill=\"#9c9c9c\" font-family=\"Monaco\" text-anchor=\"end\" x=\"-8\" y=\"286\">[55 - 64)</text></g><g class=\"tick\"><line stroke=\"#eee\" stroke-width=\"1\" x1=\"-4\" x2=\"610.0\" y1=\"234\" y2=\"234\"/><text dy=\"0.32em\" fill=\"#9c9c9c\" font-family=\"Monaco\" text-anchor=\"end\" x=\"-8\" y=\"234\">[46 - 55)</text></g><g class=\"tick\"><line stroke=\"#eee\" stroke-width=\"1\" x1=\"-4\" x2=\"610.0\" y1=\"182\" y2=\"182\"/><text dy=\"0.32em\" fill=\"#9c9c9c\" font-family=\"Monaco\" text-anchor=\"end\" x=\"-8\" y=\"182\">[37 - 46)</text></g><g class=\"tick\"><line stroke=\"#eee\" stroke-width=\"1\" x1=\"-4\" x2=\"610.0\" y1=\"130\" y2=\"130\"/><text dy=\"0.32em\" fill=\"#9c9c9c\" font-family=\"Monaco\" text-anchor=\"end\" x=\"-8\" y=\"130\">[28 - 37)</text></g><g class=\"tick\"><line stroke=\"#eee\" stroke-width=\"1\" x1=\"-4\" x2=\"610.0\" y1=\"78\" y2=\"78\"/><text dy=\"0.32em\" fill=\"#9c9c9c\" font-family=\"Monaco\" text-anchor=\"end\" x=\"-8\" y=\"78\">[19 - 28)</text></g><g class=\"tick\"><line stroke=\"#eee\" stroke-width=\"1\" x1=\"-4\" x2=\"610.0\" y1=\"26\" y2=\"26\"/><text dy=\"0.32em\" fill=\"#9c9c9c\" font-family=\"Monaco\" text-anchor=\"end\" x=\"-8\" y=\"26\">[10 - 19)</text></g></g><g><g class=\"series bars\"><rect fill=\"#e41a1c\" height=\"46.8\" width=\"0.8133333333333333333333333331\" x=\"0\" y=\"366.6\"/><rect fill=\"#e41a1c\" height=\"46.8\" width=\"2.440\" x=\"0\" y=\"314.6\"/><rect fill=\"#e41a1c\" height=\"46.8\" width=\"19.520\" x=\"0\" y=\"262.6\"/><rect fill=\"#e41a1c\" height=\"46.8\" width=\"65.880\" x=\"0\" y=\"210.6\"/><rect fill=\"#e41a1c\" height=\"46.8\" width=\"173.240\" x=\"0\" y=\"158.6\"/><rect fill=\"#e41a1c\" height=\"46.8\" width=\"329.40\" x=\"0\" y=\"106.6\"/><rect fill=\"#e41a1c\" height=\"46.8\" width=\"559.5733333333333333333333333\" x=\"0\" y=\"54.6\"/><rect fill=\"#e41a1c\" height=\"46.8\" width=\"184.6266666666666666666666667\" x=\"0\" y=\"2.6\"/></g></g></g></g></g></g></svg>"
      ],
      "text/plain": [
       "<IPython.core.display.SVG object>"
      ]
     },
     "execution_count": 36,
     "metadata": {},
     "output_type": "execute_result"
    }
   ],
   "source": [
    "binned_ages.bar_chart()"
   ]
  },
  {
   "cell_type": "markdown",
   "metadata": {},
   "source": [
    "### Exonerations by year"
   ]
  },
  {
   "cell_type": "code",
   "execution_count": 38,
   "metadata": {
    "collapsed": false
   },
   "outputs": [
    {
     "data": {
      "image/svg+xml": [
       "<svg height=\"600\" version=\"1.1\" width=\"800\" xmlns=\"http://www.w3.org/2000/svg\"><g><rect fill=\"#f9f9f9\" height=\"600\" width=\"800\" x=\"0\" y=\"0\"/><g transform=\"translate(40 40)\"><g transform=\"translate(62 0)\"/><g transform=\"translate(0 0)\"><g transform=\"translate(62 0)\"><g class=\"axis bottom\"><text dy=\"1em\" fill=\"#666\" font-family=\"Monaco\" text-anchor=\"middle\" transform=\"\" x=\"329.0\" y=\"506.0\">exonerated</text><g class=\"tick\"><line stroke=\"#eee\" stroke-width=\"1\" x1=\"0\" x2=\"0\" y1=\"0\" y2=\"472.0\"/><text dy=\"1em\" fill=\"#9c9c9c\" font-family=\"Monaco\" text-anchor=\"middle\" x=\"0\" y=\"476.0\">1980</text></g><g class=\"tick\"><line stroke=\"#eee\" stroke-width=\"1\" x1=\"164.50\" x2=\"164.50\" y1=\"0\" y2=\"472.0\"/><text dy=\"1em\" fill=\"#9c9c9c\" font-family=\"Monaco\" text-anchor=\"middle\" x=\"164.50\" y=\"476.0\">1990</text></g><g class=\"tick\"><line stroke=\"#eee\" stroke-width=\"1\" x1=\"329.0\" x2=\"329.0\" y1=\"0\" y2=\"472.0\"/><text dy=\"1em\" fill=\"#9c9c9c\" font-family=\"Monaco\" text-anchor=\"middle\" x=\"329.0\" y=\"476.0\">2000</text></g><g class=\"tick\"><line stroke=\"#eee\" stroke-width=\"1\" x1=\"493.50\" x2=\"493.50\" y1=\"0\" y2=\"472.0\"/><text dy=\"1em\" fill=\"#9c9c9c\" font-family=\"Monaco\" text-anchor=\"middle\" x=\"493.50\" y=\"476.0\">2010</text></g><g class=\"tick\"><line stroke=\"#eee\" stroke-width=\"1\" x1=\"658\" x2=\"658\" y1=\"0\" y2=\"472.0\"/><text dy=\"1em\" fill=\"#9c9c9c\" font-family=\"Monaco\" text-anchor=\"middle\" x=\"658\" y=\"476.0\">2020</text></g></g><g class=\"axis left\"><text dy=\"\" fill=\"#666\" font-family=\"Monaco\" text-anchor=\"middle\" transform=\"rotate(270 -40 234)\" x=\"-40\" y=\"234.0\">count</text><g class=\"tick\"><line stroke=\"#eee\" stroke-width=\"1\" x1=\"-4\" x2=\"658.0\" y1=\"312.0000000000000000000000000\" y2=\"312.0000000000000000000000000\"/><text dy=\"0.32em\" fill=\"#9c9c9c\" font-family=\"Monaco\" text-anchor=\"end\" x=\"-8\" y=\"312.0000000000000000000000000\">50</text></g><g class=\"tick\"><line stroke=\"#eee\" stroke-width=\"1\" x1=\"-4\" x2=\"658.0\" y1=\"156.0000000000000000000000000\" y2=\"156.0000000000000000000000000\"/><text dy=\"0.32em\" fill=\"#9c9c9c\" font-family=\"Monaco\" text-anchor=\"end\" x=\"-8\" y=\"156.0000000000000000000000000\">100</text></g><g class=\"tick\"><line stroke=\"#eee\" stroke-width=\"1\" x1=\"-4\" x2=\"658.0\" y1=\"0\" y2=\"0\"/><text dy=\"0.32em\" fill=\"#9c9c9c\" font-family=\"Monaco\" text-anchor=\"end\" x=\"-8\" y=\"0\">150</text></g><g class=\"tick\"><line stroke=\"#a8a8a8\" stroke-width=\"1\" x1=\"-4\" x2=\"658.0\" y1=\"468\" y2=\"468\"/><text dy=\"0.32em\" fill=\"#9c9c9c\" font-family=\"Monaco\" text-anchor=\"end\" x=\"-8\" y=\"468\">0</text></g></g><g><g class=\"series lines\"><path d=\"M 148.050 399.3600000000000000000000000 L 164.50 383.76 L 180.950 349.4400000000000000000000000 L 197.4 358.8000000000000000000000000 L 213.850 361.9200000000000000000000000 L 230.30 371.2800000000000000000000000 L 246.750 352.5600000000000000000000000 L 263.2 324.4800000000000000000000000 L 279.650 324.4800000000000000000000000 L 296.10 365.04 L 312.550 308.88 L 329.0 237.1200000000000000000000000 L 345.450 199.6800000000000000000000000 L 361.90 287.0400000000000000000000000 L 378.350 227.7600000000000000000000000 L 394.8 290.16 L 411.250 280.8 L 427.70 271.44 L 444.150 246.4800000000000000000000000 L 460.6 268.3200000000000000000000000 L 477.050 190.3200000000000000000000000 L 493.50 243.36 L 509.950 246.4800000000000000000000000 L 526.4 171.6000000000000000000000000 L 542.850 180.9600000000000000000000000 L 559.30 43.6800000000000000000000000 L 575.750 199.6800000000000000000000000\" fill=\"none\" stroke=\"#e41a1c\" stroke-width=\"2\"/></g></g></g></g></g></g></svg>"
      ],
      "text/plain": [
       "<IPython.core.display.SVG object>"
      ]
     },
     "execution_count": 38,
     "metadata": {},
     "output_type": "execute_result"
    }
   ],
   "source": [
    "by_year_exonerated = exonerations.group_by('exonerated')\n",
    "\n",
    "counts = by_year_exonerated.aggregate([\n",
    "    ('count', agate.Count())\n",
    "])\n",
    "\n",
    "counts.order_by('exonerated').line_chart('exonerated', 'count')"
   ]
  },
  {
   "cell_type": "markdown",
   "metadata": {},
   "source": [
    "### Exonerations over time, for most commonly exonerated crimes\n",
    "\n",
    "The real power of agate's exploratory charting comes when we want to compare different facets of data. With leather, agate can automatically render a of chart for each group in a TableSet."
   ]
  },
  {
   "cell_type": "code",
   "execution_count": 41,
   "metadata": {
    "collapsed": false
   },
   "outputs": [
    {
     "data": {
      "image/svg+xml": [
       "<svg height=\"1200\" version=\"1.1\" width=\"1600\" xmlns=\"http://www.w3.org/2000/svg\"><g><rect fill=\"#f9f9f9\" height=\"1200\" width=\"1600\" x=\"0\" y=\"0\"/><g><g transform=\"translate(0 0)\"><g><rect fill=\"#f9f9f9\" height=\"600.0\" width=\"800.0\" x=\"0\" y=\"0\"/><g transform=\"translate(40 40)\"><g transform=\"translate(54 0)\"><text fill=\"#333\" font-family=\"Monaco\" font-size=\"16\" x=\"0\" y=\"0\">Child Sex Abuse</text></g><g transform=\"translate(0 20)\"><g transform=\"translate(54 0)\"><g class=\"axis bottom\"><text dy=\"1em\" fill=\"#666\" font-family=\"Monaco\" text-anchor=\"middle\" transform=\"\" x=\"333.0\" y=\"486.0\">exonerated</text><g class=\"tick\"><line stroke=\"#eee\" stroke-width=\"1\" x1=\"0\" x2=\"0\" y1=\"0\" y2=\"452.0\"/><text dy=\"1em\" fill=\"#9c9c9c\" font-family=\"Monaco\" text-anchor=\"middle\" x=\"0\" y=\"456.0\">1980</text></g><g class=\"tick\"><line stroke=\"#eee\" stroke-width=\"1\" x1=\"166.50\" x2=\"166.50\" y1=\"0\" y2=\"452.0\"/><text dy=\"1em\" fill=\"#9c9c9c\" font-family=\"Monaco\" text-anchor=\"middle\" x=\"166.50\" y=\"456.0\">1990</text></g><g class=\"tick\"><line stroke=\"#eee\" stroke-width=\"1\" x1=\"333.0\" x2=\"333.0\" y1=\"0\" y2=\"452.0\"/><text dy=\"1em\" fill=\"#9c9c9c\" font-family=\"Monaco\" text-anchor=\"middle\" x=\"333.0\" y=\"456.0\">2000</text></g><g class=\"tick\"><line stroke=\"#eee\" stroke-width=\"1\" x1=\"499.50\" x2=\"499.50\" y1=\"0\" y2=\"452.0\"/><text dy=\"1em\" fill=\"#9c9c9c\" font-family=\"Monaco\" text-anchor=\"middle\" x=\"499.50\" y=\"456.0\">2010</text></g><g class=\"tick\"><line stroke=\"#eee\" stroke-width=\"1\" x1=\"666\" x2=\"666\" y1=\"0\" y2=\"452.0\"/><text dy=\"1em\" fill=\"#9c9c9c\" font-family=\"Monaco\" text-anchor=\"middle\" x=\"666\" y=\"456.0\">2020</text></g></g><g class=\"axis left\"><text dy=\"\" fill=\"#666\" font-family=\"Monaco\" text-anchor=\"middle\" transform=\"rotate(270 -32 224)\" x=\"-32\" y=\"224.0\">count</text><g class=\"tick\"><line stroke=\"#eee\" stroke-width=\"1\" x1=\"-4\" x2=\"666.0\" y1=\"358.4\" y2=\"358.4\"/><text dy=\"0.32em\" fill=\"#9c9c9c\" font-family=\"Monaco\" text-anchor=\"end\" x=\"-8\" y=\"358.4\">10</text></g><g class=\"tick\"><line stroke=\"#eee\" stroke-width=\"1\" x1=\"-4\" x2=\"666.0\" y1=\"268.8\" y2=\"268.8\"/><text dy=\"0.32em\" fill=\"#9c9c9c\" font-family=\"Monaco\" text-anchor=\"end\" x=\"-8\" y=\"268.8\">20</text></g><g class=\"tick\"><line stroke=\"#eee\" stroke-width=\"1\" x1=\"-4\" x2=\"666.0\" y1=\"179.2\" y2=\"179.2\"/><text dy=\"0.32em\" fill=\"#9c9c9c\" font-family=\"Monaco\" text-anchor=\"end\" x=\"-8\" y=\"179.2\">30</text></g><g class=\"tick\"><line stroke=\"#eee\" stroke-width=\"1\" x1=\"-4\" x2=\"666.0\" y1=\"89.6\" y2=\"89.6\"/><text dy=\"0.32em\" fill=\"#9c9c9c\" font-family=\"Monaco\" text-anchor=\"end\" x=\"-8\" y=\"89.6\">40</text></g><g class=\"tick\"><line stroke=\"#eee\" stroke-width=\"1\" x1=\"-4\" x2=\"666.0\" y1=\"0\" y2=\"0\"/><text dy=\"0.32em\" fill=\"#9c9c9c\" font-family=\"Monaco\" text-anchor=\"end\" x=\"-8\" y=\"0\">50</text></g><g class=\"tick\"><line stroke=\"#a8a8a8\" stroke-width=\"1\" x1=\"-4\" x2=\"666.0\" y1=\"448\" y2=\"448\"/><text dy=\"0.32em\" fill=\"#9c9c9c\" font-family=\"Monaco\" text-anchor=\"end\" x=\"-8\" y=\"448\">0</text></g></g><g><g class=\"series lines\"><path d=\"M 149.850 430.08 L 166.50 412.16 L 183.150 367.36 L 199.8 412.16 L 216.450 439.04 L 233.10 421.12 L 249.750 421.12 L 266.4 403.2 L 283.050 340.48 L 299.70 385.28 L 316.350 421.12 L 333.0 331.52 L 349.650 349.44 L 366.30 403.2 L 382.950 394.24 L 399.6 412.16 L 416.250 358.4 L 432.90 412.16 L 449.550 367.36 L 466.2 349.44 L 482.850 322.56 L 499.50 376.32 L 516.150 349.44 L 532.8 376.32 L 549.450 394.24 L 566.10 385.28 L 582.750 421.12\" fill=\"none\" stroke=\"#e41a1c\" stroke-width=\"2\"/></g></g></g></g></g></g></g><g transform=\"translate(800 0)\"><g><rect fill=\"#f9f9f9\" height=\"600.0\" width=\"800.0\" x=\"0\" y=\"0\"/><g transform=\"translate(40 40)\"><g transform=\"translate(54 0)\"><text fill=\"#333\" font-family=\"Monaco\" font-size=\"16\" x=\"0\" y=\"0\">Sexual Assault</text></g><g transform=\"translate(0 20)\"><g transform=\"translate(54 0)\"><g class=\"axis bottom\"><text dy=\"1em\" fill=\"#666\" font-family=\"Monaco\" text-anchor=\"middle\" transform=\"\" x=\"333.0\" y=\"486.0\">exonerated</text><g class=\"tick\"><line stroke=\"#eee\" stroke-width=\"1\" x1=\"0\" x2=\"0\" y1=\"0\" y2=\"452.0\"/><text dy=\"1em\" fill=\"#9c9c9c\" font-family=\"Monaco\" text-anchor=\"middle\" x=\"0\" y=\"456.0\">1980</text></g><g class=\"tick\"><line stroke=\"#eee\" stroke-width=\"1\" x1=\"166.50\" x2=\"166.50\" y1=\"0\" y2=\"452.0\"/><text dy=\"1em\" fill=\"#9c9c9c\" font-family=\"Monaco\" text-anchor=\"middle\" x=\"166.50\" y=\"456.0\">1990</text></g><g class=\"tick\"><line stroke=\"#eee\" stroke-width=\"1\" x1=\"333.0\" x2=\"333.0\" y1=\"0\" y2=\"452.0\"/><text dy=\"1em\" fill=\"#9c9c9c\" font-family=\"Monaco\" text-anchor=\"middle\" x=\"333.0\" y=\"456.0\">2000</text></g><g class=\"tick\"><line stroke=\"#eee\" stroke-width=\"1\" x1=\"499.50\" x2=\"499.50\" y1=\"0\" y2=\"452.0\"/><text dy=\"1em\" fill=\"#9c9c9c\" font-family=\"Monaco\" text-anchor=\"middle\" x=\"499.50\" y=\"456.0\">2010</text></g><g class=\"tick\"><line stroke=\"#eee\" stroke-width=\"1\" x1=\"666\" x2=\"666\" y1=\"0\" y2=\"452.0\"/><text dy=\"1em\" fill=\"#9c9c9c\" font-family=\"Monaco\" text-anchor=\"middle\" x=\"666\" y=\"456.0\">2020</text></g></g><g class=\"axis left\"><text dy=\"\" fill=\"#666\" font-family=\"Monaco\" text-anchor=\"middle\" transform=\"rotate(270 -32 224)\" x=\"-32\" y=\"224.0\">count</text><g class=\"tick\"><line stroke=\"#eee\" stroke-width=\"1\" x1=\"-4\" x2=\"666.0\" y1=\"358.4\" y2=\"358.4\"/><text dy=\"0.32em\" fill=\"#9c9c9c\" font-family=\"Monaco\" text-anchor=\"end\" x=\"-8\" y=\"358.4\">10</text></g><g class=\"tick\"><line stroke=\"#eee\" stroke-width=\"1\" x1=\"-4\" x2=\"666.0\" y1=\"268.8\" y2=\"268.8\"/><text dy=\"0.32em\" fill=\"#9c9c9c\" font-family=\"Monaco\" text-anchor=\"end\" x=\"-8\" y=\"268.8\">20</text></g><g class=\"tick\"><line stroke=\"#eee\" stroke-width=\"1\" x1=\"-4\" x2=\"666.0\" y1=\"179.2\" y2=\"179.2\"/><text dy=\"0.32em\" fill=\"#9c9c9c\" font-family=\"Monaco\" text-anchor=\"end\" x=\"-8\" y=\"179.2\">30</text></g><g class=\"tick\"><line stroke=\"#eee\" stroke-width=\"1\" x1=\"-4\" x2=\"666.0\" y1=\"89.6\" y2=\"89.6\"/><text dy=\"0.32em\" fill=\"#9c9c9c\" font-family=\"Monaco\" text-anchor=\"end\" x=\"-8\" y=\"89.6\">40</text></g><g class=\"tick\"><line stroke=\"#eee\" stroke-width=\"1\" x1=\"-4\" x2=\"666.0\" y1=\"0\" y2=\"0\"/><text dy=\"0.32em\" fill=\"#9c9c9c\" font-family=\"Monaco\" text-anchor=\"end\" x=\"-8\" y=\"0\">50</text></g><g class=\"tick\"><line stroke=\"#a8a8a8\" stroke-width=\"1\" x1=\"-4\" x2=\"666.0\" y1=\"448\" y2=\"448\"/><text dy=\"0.32em\" fill=\"#9c9c9c\" font-family=\"Monaco\" text-anchor=\"end\" x=\"-8\" y=\"448\">0</text></g></g><g><g class=\"series lines\"><path d=\"M 149.850 439.04 L 166.50 430.08 L 183.150 403.2 L 199.8 385.28 L 216.450 430.08 L 233.10 376.32 L 249.750 385.28 L 266.4 349.44 L 283.050 349.44 L 299.70 421.12 L 316.350 358.4 L 333.0 322.56 L 349.650 340.48 L 366.30 259.84 L 382.950 286.72 L 399.6 358.4 L 416.250 358.4 L 432.90 313.6 L 449.550 322.56 L 466.2 349.44 L 482.850 331.52 L 499.50 322.56 L 516.150 367.36 L 532.8 295.68 L 549.450 331.52 L 566.10 340.48 L 582.750 394.24\" fill=\"none\" stroke=\"#e41a1c\" stroke-width=\"2\"/></g></g></g></g></g></g></g><g transform=\"translate(0 600)\"><g><rect fill=\"#f9f9f9\" height=\"600.0\" width=\"800.0\" x=\"0\" y=\"0\"/><g transform=\"translate(40 40)\"><g transform=\"translate(54 0)\"><text fill=\"#333\" font-family=\"Monaco\" font-size=\"16\" x=\"0\" y=\"0\">Murder</text></g><g transform=\"translate(0 20)\"><g transform=\"translate(54 0)\"><g class=\"axis bottom\"><text dy=\"1em\" fill=\"#666\" font-family=\"Monaco\" text-anchor=\"middle\" transform=\"\" x=\"333.0\" y=\"486.0\">exonerated</text><g class=\"tick\"><line stroke=\"#eee\" stroke-width=\"1\" x1=\"0\" x2=\"0\" y1=\"0\" y2=\"452.0\"/><text dy=\"1em\" fill=\"#9c9c9c\" font-family=\"Monaco\" text-anchor=\"middle\" x=\"0\" y=\"456.0\">1980</text></g><g class=\"tick\"><line stroke=\"#eee\" stroke-width=\"1\" x1=\"166.50\" x2=\"166.50\" y1=\"0\" y2=\"452.0\"/><text dy=\"1em\" fill=\"#9c9c9c\" font-family=\"Monaco\" text-anchor=\"middle\" x=\"166.50\" y=\"456.0\">1990</text></g><g class=\"tick\"><line stroke=\"#eee\" stroke-width=\"1\" x1=\"333.0\" x2=\"333.0\" y1=\"0\" y2=\"452.0\"/><text dy=\"1em\" fill=\"#9c9c9c\" font-family=\"Monaco\" text-anchor=\"middle\" x=\"333.0\" y=\"456.0\">2000</text></g><g class=\"tick\"><line stroke=\"#eee\" stroke-width=\"1\" x1=\"499.50\" x2=\"499.50\" y1=\"0\" y2=\"452.0\"/><text dy=\"1em\" fill=\"#9c9c9c\" font-family=\"Monaco\" text-anchor=\"middle\" x=\"499.50\" y=\"456.0\">2010</text></g><g class=\"tick\"><line stroke=\"#eee\" stroke-width=\"1\" x1=\"666\" x2=\"666\" y1=\"0\" y2=\"452.0\"/><text dy=\"1em\" fill=\"#9c9c9c\" font-family=\"Monaco\" text-anchor=\"middle\" x=\"666\" y=\"456.0\">2020</text></g></g><g class=\"axis left\"><text dy=\"\" fill=\"#666\" font-family=\"Monaco\" text-anchor=\"middle\" transform=\"rotate(270 -32 224)\" x=\"-32\" y=\"224.0\">count</text><g class=\"tick\"><line stroke=\"#eee\" stroke-width=\"1\" x1=\"-4\" x2=\"666.0\" y1=\"358.4\" y2=\"358.4\"/><text dy=\"0.32em\" fill=\"#9c9c9c\" font-family=\"Monaco\" text-anchor=\"end\" x=\"-8\" y=\"358.4\">10</text></g><g class=\"tick\"><line stroke=\"#eee\" stroke-width=\"1\" x1=\"-4\" x2=\"666.0\" y1=\"268.8\" y2=\"268.8\"/><text dy=\"0.32em\" fill=\"#9c9c9c\" font-family=\"Monaco\" text-anchor=\"end\" x=\"-8\" y=\"268.8\">20</text></g><g class=\"tick\"><line stroke=\"#eee\" stroke-width=\"1\" x1=\"-4\" x2=\"666.0\" y1=\"179.2\" y2=\"179.2\"/><text dy=\"0.32em\" fill=\"#9c9c9c\" font-family=\"Monaco\" text-anchor=\"end\" x=\"-8\" y=\"179.2\">30</text></g><g class=\"tick\"><line stroke=\"#eee\" stroke-width=\"1\" x1=\"-4\" x2=\"666.0\" y1=\"89.6\" y2=\"89.6\"/><text dy=\"0.32em\" fill=\"#9c9c9c\" font-family=\"Monaco\" text-anchor=\"end\" x=\"-8\" y=\"89.6\">40</text></g><g class=\"tick\"><line stroke=\"#eee\" stroke-width=\"1\" x1=\"-4\" x2=\"666.0\" y1=\"0\" y2=\"0\"/><text dy=\"0.32em\" fill=\"#9c9c9c\" font-family=\"Monaco\" text-anchor=\"end\" x=\"-8\" y=\"0\">50</text></g><g class=\"tick\"><line stroke=\"#a8a8a8\" stroke-width=\"1\" x1=\"-4\" x2=\"666.0\" y1=\"448\" y2=\"448\"/><text dy=\"0.32em\" fill=\"#9c9c9c\" font-family=\"Monaco\" text-anchor=\"end\" x=\"-8\" y=\"448\">0</text></g></g><g><g class=\"series lines\"><path d=\"M 149.850 331.52 L 166.50 340.48 L 183.150 295.68 L 199.8 340.48 L 216.450 259.84 L 233.10 331.52 L 249.750 277.76 L 266.4 241.92 L 283.050 331.52 L 299.70 349.44 L 316.350 268.8 L 333.0 179.2 L 349.650 107.52 L 366.30 250.88 L 382.950 125.44 L 399.6 224.0 L 416.250 224.0 L 432.90 295.68 L 449.550 241.92 L 466.2 170.24 L 482.850 53.76 L 499.50 197.12 L 516.150 143.36 L 532.8 44.8 L 549.450 71.68 L 566.10 35.84 L 582.750 197.12\" fill=\"none\" stroke=\"#e41a1c\" stroke-width=\"2\"/></g></g></g></g></g></g></g><g transform=\"translate(800 600)\"><g><rect fill=\"#f9f9f9\" height=\"600.0\" width=\"800.0\" x=\"0\" y=\"0\"/><g transform=\"translate(40 40)\"><g transform=\"translate(54 0)\"><text fill=\"#333\" font-family=\"Monaco\" font-size=\"16\" x=\"0\" y=\"0\">Drug Possession or Sale</text></g><g transform=\"translate(0 20)\"><g transform=\"translate(54 0)\"><g class=\"axis bottom\"><text dy=\"1em\" fill=\"#666\" font-family=\"Monaco\" text-anchor=\"middle\" transform=\"\" x=\"333.0\" y=\"486.0\">exonerated</text><g class=\"tick\"><line stroke=\"#eee\" stroke-width=\"1\" x1=\"0\" x2=\"0\" y1=\"0\" y2=\"452.0\"/><text dy=\"1em\" fill=\"#9c9c9c\" font-family=\"Monaco\" text-anchor=\"middle\" x=\"0\" y=\"456.0\">1980</text></g><g class=\"tick\"><line stroke=\"#eee\" stroke-width=\"1\" x1=\"166.50\" x2=\"166.50\" y1=\"0\" y2=\"452.0\"/><text dy=\"1em\" fill=\"#9c9c9c\" font-family=\"Monaco\" text-anchor=\"middle\" x=\"166.50\" y=\"456.0\">1990</text></g><g class=\"tick\"><line stroke=\"#eee\" stroke-width=\"1\" x1=\"333.0\" x2=\"333.0\" y1=\"0\" y2=\"452.0\"/><text dy=\"1em\" fill=\"#9c9c9c\" font-family=\"Monaco\" text-anchor=\"middle\" x=\"333.0\" y=\"456.0\">2000</text></g><g class=\"tick\"><line stroke=\"#eee\" stroke-width=\"1\" x1=\"499.50\" x2=\"499.50\" y1=\"0\" y2=\"452.0\"/><text dy=\"1em\" fill=\"#9c9c9c\" font-family=\"Monaco\" text-anchor=\"middle\" x=\"499.50\" y=\"456.0\">2010</text></g><g class=\"tick\"><line stroke=\"#eee\" stroke-width=\"1\" x1=\"666\" x2=\"666\" y1=\"0\" y2=\"452.0\"/><text dy=\"1em\" fill=\"#9c9c9c\" font-family=\"Monaco\" text-anchor=\"middle\" x=\"666\" y=\"456.0\">2020</text></g></g><g class=\"axis left\"><text dy=\"\" fill=\"#666\" font-family=\"Monaco\" text-anchor=\"middle\" transform=\"rotate(270 -32 224)\" x=\"-32\" y=\"224.0\">count</text><g class=\"tick\"><line stroke=\"#eee\" stroke-width=\"1\" x1=\"-4\" x2=\"666.0\" y1=\"358.4\" y2=\"358.4\"/><text dy=\"0.32em\" fill=\"#9c9c9c\" font-family=\"Monaco\" text-anchor=\"end\" x=\"-8\" y=\"358.4\">10</text></g><g class=\"tick\"><line stroke=\"#eee\" stroke-width=\"1\" x1=\"-4\" x2=\"666.0\" y1=\"268.8\" y2=\"268.8\"/><text dy=\"0.32em\" fill=\"#9c9c9c\" font-family=\"Monaco\" text-anchor=\"end\" x=\"-8\" y=\"268.8\">20</text></g><g class=\"tick\"><line stroke=\"#eee\" stroke-width=\"1\" x1=\"-4\" x2=\"666.0\" y1=\"179.2\" y2=\"179.2\"/><text dy=\"0.32em\" fill=\"#9c9c9c\" font-family=\"Monaco\" text-anchor=\"end\" x=\"-8\" y=\"179.2\">30</text></g><g class=\"tick\"><line stroke=\"#eee\" stroke-width=\"1\" x1=\"-4\" x2=\"666.0\" y1=\"89.6\" y2=\"89.6\"/><text dy=\"0.32em\" fill=\"#9c9c9c\" font-family=\"Monaco\" text-anchor=\"end\" x=\"-8\" y=\"89.6\">40</text></g><g class=\"tick\"><line stroke=\"#eee\" stroke-width=\"1\" x1=\"-4\" x2=\"666.0\" y1=\"0\" y2=\"0\"/><text dy=\"0.32em\" fill=\"#9c9c9c\" font-family=\"Monaco\" text-anchor=\"end\" x=\"-8\" y=\"0\">50</text></g><g class=\"tick\"><line stroke=\"#a8a8a8\" stroke-width=\"1\" x1=\"-4\" x2=\"666.0\" y1=\"448\" y2=\"448\"/><text dy=\"0.32em\" fill=\"#9c9c9c\" font-family=\"Monaco\" text-anchor=\"end\" x=\"-8\" y=\"448\">0</text></g></g><g><g class=\"series lines\"><path d=\"M 149.850 439.04 L 199.8 439.04 L 233.10 421.12 L 249.750 439.04 L 283.050 412.16 L 299.70 439.04 L 316.350 439.04 L 333.0 385.28 L 349.650 412.16 L 366.30 439.04 L 382.950 421.12 L 399.6 439.04 L 416.250 421.12 L 432.90 376.32 L 449.550 421.12 L 466.2 439.04 L 482.850 421.12 L 499.50 403.2 L 516.150 421.12 L 532.8 403.2 L 549.450 349.44 L 566.10 89.6 L 582.750 224.0\" fill=\"none\" stroke=\"#e41a1c\" stroke-width=\"2\"/></g></g></g></g></g></g></g></g></g></svg>"
      ],
      "text/plain": [
       "<IPython.core.display.SVG object>"
      ]
     },
     "execution_count": 41,
     "metadata": {},
     "output_type": "execute_result"
    }
   ],
   "source": [
    "# Filter to crimes with at least 100 exonerations\n",
    "top_crimes = exonerations.group_by('crime').having([\n",
    "    ('count', agate.Count())\n",
    "], lambda t: t['count'] > 100)\n",
    "\n",
    "# Group by year of exoneration\n",
    "by_year = top_crimes.group_by('exonerated')\n",
    "\n",
    "# Count number of exonerations in each year\n",
    "counts = by_year.aggregate([\n",
    "    ('count', agate.Count())\n",
    "])\n",
    "\n",
    "# Group by crime\n",
    "by_crime = counts.group_by('crime')\n",
    "\n",
    "# Sort each group of exonerations by year and chart the results\n",
    "by_crime.order_by('exonerated').line_chart('exonerated', 'count')"
   ]
  },
  {
   "cell_type": "markdown",
   "metadata": {},
   "source": [
    "### Styling charts\n",
    "\n",
    "As mentioned above, leather is designed for making \"good enough\" charts. You are never going to create a polished chart. However, sometimes you may want more control than agate offers through it's own methods. You can take more control over how your charts are presented by using [leather](http://leather.readthedocs.io/) directly."
   ]
  },
  {
   "cell_type": "code",
   "execution_count": 52,
   "metadata": {
    "collapsed": false
   },
   "outputs": [
    {
     "data": {
      "image/svg+xml": [
       "<svg height=\"1000\" version=\"1.1\" width=\"800\" xmlns=\"http://www.w3.org/2000/svg\"><g><rect fill=\"#f9f9f9\" height=\"1000\" width=\"800\" x=\"0\" y=\"0\"/><g transform=\"translate(40 40)\"><g transform=\"translate(62 0)\"><text fill=\"#333\" font-family=\"Monaco\" font-size=\"16\" x=\"0\" y=\"0\">Total exonerations by state</text></g><g transform=\"translate(0 20)\"><g transform=\"translate(62 0)\"><g class=\"axis bottom\"><text dy=\"1em\" fill=\"#666\" font-family=\"Monaco\" text-anchor=\"middle\" transform=\"\" x=\"329.0\" y=\"886.0\">Number of exonerations</text><g class=\"tick\"><line stroke=\"#eee\" stroke-width=\"1\" x1=\"219.3333333333333333333333333\" x2=\"219.3333333333333333333333333\" y1=\"0\" y2=\"852.0\"/><text dy=\"1em\" fill=\"#9c9c9c\" font-family=\"Monaco\" text-anchor=\"middle\" x=\"219.3333333333333333333333333\" y=\"856.0\">100</text></g><g class=\"tick\"><line stroke=\"#eee\" stroke-width=\"1\" x1=\"438.6666666666666666666666667\" x2=\"438.6666666666666666666666667\" y1=\"0\" y2=\"852.0\"/><text dy=\"1em\" fill=\"#9c9c9c\" font-family=\"Monaco\" text-anchor=\"middle\" x=\"438.6666666666666666666666667\" y=\"856.0\">200</text></g><g class=\"tick\"><line stroke=\"#eee\" stroke-width=\"1\" x1=\"658\" x2=\"658\" y1=\"0\" y2=\"852.0\"/><text dy=\"1em\" fill=\"#9c9c9c\" font-family=\"Monaco\" text-anchor=\"middle\" x=\"658\" y=\"856.0\">300</text></g><g class=\"tick\"><line stroke=\"#a8a8a8\" stroke-width=\"1\" x1=\"0\" x2=\"0\" y1=\"0\" y2=\"852.0\"/><text dy=\"1em\" fill=\"#9c9c9c\" font-family=\"Monaco\" text-anchor=\"middle\" x=\"0\" y=\"856.0\">0</text></g></g><g class=\"axis left\"><text dy=\"\" fill=\"#666\" font-family=\"Monaco\" text-anchor=\"middle\" transform=\"rotate(270 -40 424)\" x=\"-40\" y=\"424.0\">State</text><g class=\"tick\"><line stroke=\"#eee\" stroke-width=\"1\" x1=\"-4\" x2=\"658.0\" y1=\"840.1481481481481481481481482\" y2=\"840.1481481481481481481481482\"/><text dy=\"0.32em\" fill=\"#9c9c9c\" font-family=\"Monaco\" text-anchor=\"end\" x=\"-8\" y=\"840.1481481481481481481481482\">GU</text></g><g class=\"tick\"><line stroke=\"#eee\" stroke-width=\"1\" x1=\"-4\" x2=\"658.0\" y1=\"824.4444444444444444444444444\" y2=\"824.4444444444444444444444444\"/><text dy=\"0.32em\" fill=\"#9c9c9c\" font-family=\"Monaco\" text-anchor=\"end\" x=\"-8\" y=\"824.4444444444444444444444444\">VT</text></g><g class=\"tick\"><line stroke=\"#eee\" stroke-width=\"1\" x1=\"-4\" x2=\"658.0\" y1=\"808.7407407407407407407407408\" y2=\"808.7407407407407407407407408\"/><text dy=\"0.32em\" fill=\"#9c9c9c\" font-family=\"Monaco\" text-anchor=\"end\" x=\"-8\" y=\"808.7407407407407407407407408\">DE</text></g><g class=\"tick\"><line stroke=\"#eee\" stroke-width=\"1\" x1=\"-4\" x2=\"658.0\" y1=\"793.0370370370370370370370370\" y2=\"793.0370370370370370370370370\"/><text dy=\"0.32em\" fill=\"#9c9c9c\" font-family=\"Monaco\" text-anchor=\"end\" x=\"-8\" y=\"793.0370370370370370370370370\">NH</text></g><g class=\"tick\"><line stroke=\"#eee\" stroke-width=\"1\" x1=\"-4\" x2=\"658.0\" y1=\"777.3333333333333333333333334\" y2=\"777.3333333333333333333333334\"/><text dy=\"0.32em\" fill=\"#9c9c9c\" font-family=\"Monaco\" text-anchor=\"end\" x=\"-8\" y=\"777.3333333333333333333333334\">ME</text></g><g class=\"tick\"><line stroke=\"#eee\" stroke-width=\"1\" x1=\"-4\" x2=\"658.0\" y1=\"761.6296296296296296296296296\" y2=\"761.6296296296296296296296296\"/><text dy=\"0.32em\" fill=\"#9c9c9c\" font-family=\"Monaco\" text-anchor=\"end\" x=\"-8\" y=\"761.6296296296296296296296296\">ID</text></g><g class=\"tick\"><line stroke=\"#eee\" stroke-width=\"1\" x1=\"-4\" x2=\"658.0\" y1=\"745.9259259259259259259259260\" y2=\"745.9259259259259259259259260\"/><text dy=\"0.32em\" fill=\"#9c9c9c\" font-family=\"Monaco\" text-anchor=\"end\" x=\"-8\" y=\"745.9259259259259259259259260\">WY</text></g><g class=\"tick\"><line stroke=\"#eee\" stroke-width=\"1\" x1=\"-4\" x2=\"658.0\" y1=\"730.2222222222222222222222222\" y2=\"730.2222222222222222222222222\"/><text dy=\"0.32em\" fill=\"#9c9c9c\" font-family=\"Monaco\" text-anchor=\"end\" x=\"-8\" y=\"730.2222222222222222222222222\">PR</text></g><g class=\"tick\"><line stroke=\"#eee\" stroke-width=\"1\" x1=\"-4\" x2=\"658.0\" y1=\"714.5185185185185185185185186\" y2=\"714.5185185185185185185185186\"/><text dy=\"0.32em\" fill=\"#9c9c9c\" font-family=\"Monaco\" text-anchor=\"end\" x=\"-8\" y=\"714.5185185185185185185185186\">ND</text></g><g class=\"tick\"><line stroke=\"#eee\" stroke-width=\"1\" x1=\"-4\" x2=\"658.0\" y1=\"698.8148148148148148148148148\" y2=\"698.8148148148148148148148148\"/><text dy=\"0.32em\" fill=\"#9c9c9c\" font-family=\"Monaco\" text-anchor=\"end\" x=\"-8\" y=\"698.8148148148148148148148148\">HI</text></g><g class=\"tick\"><line stroke=\"#eee\" stroke-width=\"1\" x1=\"-4\" x2=\"658.0\" y1=\"683.1111111111111111111111112\" y2=\"683.1111111111111111111111112\"/><text dy=\"0.32em\" fill=\"#9c9c9c\" font-family=\"Monaco\" text-anchor=\"end\" x=\"-8\" y=\"683.1111111111111111111111112\">AK</text></g><g class=\"tick\"><line stroke=\"#eee\" stroke-width=\"1\" x1=\"-4\" x2=\"658.0\" y1=\"667.4074074074074074074074074\" y2=\"667.4074074074074074074074074\"/><text dy=\"0.32em\" fill=\"#9c9c9c\" font-family=\"Monaco\" text-anchor=\"end\" x=\"-8\" y=\"667.4074074074074074074074074\">MIL</text></g><g class=\"tick\"><line stroke=\"#eee\" stroke-width=\"1\" x1=\"-4\" x2=\"658.0\" y1=\"651.7037037037037037037037038\" y2=\"651.7037037037037037037037038\"/><text dy=\"0.32em\" fill=\"#9c9c9c\" font-family=\"Monaco\" text-anchor=\"end\" x=\"-8\" y=\"651.7037037037037037037037038\">CO</text></g><g class=\"tick\"><line stroke=\"#eee\" stroke-width=\"1\" x1=\"-4\" x2=\"658.0\" y1=\"636.0000000000000000000000000\" y2=\"636.0000000000000000000000000\"/><text dy=\"0.32em\" fill=\"#9c9c9c\" font-family=\"Monaco\" text-anchor=\"end\" x=\"-8\" y=\"636.0000000000000000000000000\">NM</text></g><g class=\"tick\"><line stroke=\"#eee\" stroke-width=\"1\" x1=\"-4\" x2=\"658.0\" y1=\"620.2962962962962962962962964\" y2=\"620.2962962962962962962962964\"/><text dy=\"0.32em\" fill=\"#9c9c9c\" font-family=\"Monaco\" text-anchor=\"end\" x=\"-8\" y=\"620.2962962962962962962962964\">SD</text></g><g class=\"tick\"><line stroke=\"#eee\" stroke-width=\"1\" x1=\"-4\" x2=\"658.0\" y1=\"604.5925925925925925925925926\" y2=\"604.5925925925925925925925926\"/><text dy=\"0.32em\" fill=\"#9c9c9c\" font-family=\"Monaco\" text-anchor=\"end\" x=\"-8\" y=\"604.5925925925925925925925926\">RI</text></g><g class=\"tick\"><line stroke=\"#eee\" stroke-width=\"1\" x1=\"-4\" x2=\"658.0\" y1=\"588.8888888888888888888888890\" y2=\"588.8888888888888888888888890\"/><text dy=\"0.32em\" fill=\"#9c9c9c\" font-family=\"Monaco\" text-anchor=\"end\" x=\"-8\" y=\"588.8888888888888888888888890\">AR</text></g><g class=\"tick\"><line stroke=\"#eee\" stroke-width=\"1\" x1=\"-4\" x2=\"658.0\" y1=\"573.1851851851851851851851852\" y2=\"573.1851851851851851851851852\"/><text dy=\"0.32em\" fill=\"#9c9c9c\" font-family=\"Monaco\" text-anchor=\"end\" x=\"-8\" y=\"573.1851851851851851851851852\">SC</text></g><g class=\"tick\"><line stroke=\"#eee\" stroke-width=\"1\" x1=\"-4\" x2=\"658.0\" y1=\"557.4814814814814814814814816\" y2=\"557.4814814814814814814814816\"/><text dy=\"0.32em\" fill=\"#9c9c9c\" font-family=\"Monaco\" text-anchor=\"end\" x=\"-8\" y=\"557.4814814814814814814814816\">KS</text></g><g class=\"tick\"><line stroke=\"#eee\" stroke-width=\"1\" x1=\"-4\" x2=\"658.0\" y1=\"541.7777777777777777777777778\" y2=\"541.7777777777777777777777778\"/><text dy=\"0.32em\" fill=\"#9c9c9c\" font-family=\"Monaco\" text-anchor=\"end\" x=\"-8\" y=\"541.7777777777777777777777778\">MT</text></g><g class=\"tick\"><line stroke=\"#eee\" stroke-width=\"1\" x1=\"-4\" x2=\"658.0\" y1=\"526.0740740740740740740740742\" y2=\"526.0740740740740740740740742\"/><text dy=\"0.32em\" fill=\"#9c9c9c\" font-family=\"Monaco\" text-anchor=\"end\" x=\"-8\" y=\"526.0740740740740740740740742\">NE</text></g><g class=\"tick\"><line stroke=\"#eee\" stroke-width=\"1\" x1=\"-4\" x2=\"658.0\" y1=\"510.3703703703703703703703704\" y2=\"510.3703703703703703703703704\"/><text dy=\"0.32em\" fill=\"#9c9c9c\" font-family=\"Monaco\" text-anchor=\"end\" x=\"-8\" y=\"510.3703703703703703703703704\">NV</text></g><g class=\"tick\"><line stroke=\"#eee\" stroke-width=\"1\" x1=\"-4\" x2=\"658.0\" y1=\"494.6666666666666666666666668\" y2=\"494.6666666666666666666666668\"/><text dy=\"0.32em\" fill=\"#9c9c9c\" font-family=\"Monaco\" text-anchor=\"end\" x=\"-8\" y=\"494.6666666666666666666666668\">WV</text></g><g class=\"tick\"><line stroke=\"#eee\" stroke-width=\"1\" x1=\"-4\" x2=\"658.0\" y1=\"478.9629629629629629629629630\" y2=\"478.9629629629629629629629630\"/><text dy=\"0.32em\" fill=\"#9c9c9c\" font-family=\"Monaco\" text-anchor=\"end\" x=\"-8\" y=\"478.9629629629629629629629630\">MN</text></g><g class=\"tick\"><line stroke=\"#eee\" stroke-width=\"1\" x1=\"-4\" x2=\"658.0\" y1=\"463.2592592592592592592592594\" y2=\"463.2592592592592592592592594\"/><text dy=\"0.32em\" fill=\"#9c9c9c\" font-family=\"Monaco\" text-anchor=\"end\" x=\"-8\" y=\"463.2592592592592592592592594\">OR</text></g><g class=\"tick\"><line stroke=\"#eee\" stroke-width=\"1\" x1=\"-4\" x2=\"658.0\" y1=\"447.5555555555555555555555556\" y2=\"447.5555555555555555555555556\"/><text dy=\"0.32em\" fill=\"#9c9c9c\" font-family=\"Monaco\" text-anchor=\"end\" x=\"-8\" y=\"447.5555555555555555555555556\">KY</text></g><g class=\"tick\"><line stroke=\"#eee\" stroke-width=\"1\" x1=\"-4\" x2=\"658.0\" y1=\"431.8518518518518518518518520\" y2=\"431.8518518518518518518518520\"/><text dy=\"0.32em\" fill=\"#9c9c9c\" font-family=\"Monaco\" text-anchor=\"end\" x=\"-8\" y=\"431.8518518518518518518518520\">UT</text></g><g class=\"tick\"><line stroke=\"#eee\" stroke-width=\"1\" x1=\"-4\" x2=\"658.0\" y1=\"416.1481481481481481481481482\" y2=\"416.1481481481481481481481482\"/><text dy=\"0.32em\" fill=\"#9c9c9c\" font-family=\"Monaco\" text-anchor=\"end\" x=\"-8\" y=\"416.1481481481481481481481482\">IA</text></g><g class=\"tick\"><line stroke=\"#eee\" stroke-width=\"1\" x1=\"-4\" x2=\"658.0\" y1=\"400.4444444444444444444444446\" y2=\"400.4444444444444444444444446\"/><text dy=\"0.32em\" fill=\"#9c9c9c\" font-family=\"Monaco\" text-anchor=\"end\" x=\"-8\" y=\"400.4444444444444444444444446\">MS</text></g><g class=\"tick\"><line stroke=\"#eee\" stroke-width=\"1\" x1=\"-4\" x2=\"658.0\" y1=\"384.7407407407407407407407408\" y2=\"384.7407407407407407407407408\"/><text dy=\"0.32em\" fill=\"#9c9c9c\" font-family=\"Monaco\" text-anchor=\"end\" x=\"-8\" y=\"384.7407407407407407407407408\">TN</text></g><g class=\"tick\"><line stroke=\"#eee\" stroke-width=\"1\" x1=\"-4\" x2=\"658.0\" y1=\"369.0370370370370370370370372\" y2=\"369.0370370370370370370370372\"/><text dy=\"0.32em\" fill=\"#9c9c9c\" font-family=\"Monaco\" text-anchor=\"end\" x=\"-8\" y=\"369.0370370370370370370370372\">IN</text></g><g class=\"tick\"><line stroke=\"#eee\" stroke-width=\"1\" x1=\"-4\" x2=\"658.0\" y1=\"353.3333333333333333333333334\" y2=\"353.3333333333333333333333334\"/><text dy=\"0.32em\" fill=\"#9c9c9c\" font-family=\"Monaco\" text-anchor=\"end\" x=\"-8\" y=\"353.3333333333333333333333334\">CT</text></g><g class=\"tick\"><line stroke=\"#eee\" stroke-width=\"1\" x1=\"-4\" x2=\"658.0\" y1=\"337.6296296296296296296296298\" y2=\"337.6296296296296296296296298\"/><text dy=\"0.32em\" fill=\"#9c9c9c\" font-family=\"Monaco\" text-anchor=\"end\" x=\"-8\" y=\"337.6296296296296296296296298\">DC</text></g><g class=\"tick\"><line stroke=\"#eee\" stroke-width=\"1\" x1=\"-4\" x2=\"658.0\" y1=\"321.9259259259259259259259260\" y2=\"321.9259259259259259259259260\"/><text dy=\"0.32em\" fill=\"#9c9c9c\" font-family=\"Monaco\" text-anchor=\"end\" x=\"-8\" y=\"321.9259259259259259259259260\">NJ</text></g><g class=\"tick\"><line stroke=\"#eee\" stroke-width=\"1\" x1=\"-4\" x2=\"658.0\" y1=\"306.2222222222222222222222224\" y2=\"306.2222222222222222222222224\"/><text dy=\"0.32em\" fill=\"#9c9c9c\" font-family=\"Monaco\" text-anchor=\"end\" x=\"-8\" y=\"306.2222222222222222222222224\">AZ</text></g><g class=\"tick\"><line stroke=\"#eee\" stroke-width=\"1\" x1=\"-4\" x2=\"658.0\" y1=\"290.5185185185185185185185186\" y2=\"290.5185185185185185185185186\"/><text dy=\"0.32em\" fill=\"#9c9c9c\" font-family=\"Monaco\" text-anchor=\"end\" x=\"-8\" y=\"290.5185185185185185185185186\">MD</text></g><g class=\"tick\"><line stroke=\"#eee\" stroke-width=\"1\" x1=\"-4\" x2=\"658.0\" y1=\"274.8148148148148148148148150\" y2=\"274.8148148148148148148148150\"/><text dy=\"0.32em\" fill=\"#9c9c9c\" font-family=\"Monaco\" text-anchor=\"end\" x=\"-8\" y=\"274.8148148148148148148148150\">AL</text></g><g class=\"tick\"><line stroke=\"#eee\" stroke-width=\"1\" x1=\"-4\" x2=\"658.0\" y1=\"259.1111111111111111111111112\" y2=\"259.1111111111111111111111112\"/><text dy=\"0.32em\" fill=\"#9c9c9c\" font-family=\"Monaco\" text-anchor=\"end\" x=\"-8\" y=\"259.1111111111111111111111112\">GA</text></g><g class=\"tick\"><line stroke=\"#eee\" stroke-width=\"1\" x1=\"-4\" x2=\"658.0\" y1=\"243.4074074074074074074074076\" y2=\"243.4074074074074074074074076\"/><text dy=\"0.32em\" fill=\"#9c9c9c\" font-family=\"Monaco\" text-anchor=\"end\" x=\"-8\" y=\"243.4074074074074074074074076\">OK</text></g><g class=\"tick\"><line stroke=\"#eee\" stroke-width=\"1\" x1=\"-4\" x2=\"658.0\" y1=\"227.7037037037037037037037038\" y2=\"227.7037037037037037037037038\"/><text dy=\"0.32em\" fill=\"#9c9c9c\" font-family=\"Monaco\" text-anchor=\"end\" x=\"-8\" y=\"227.7037037037037037037037038\">NC</text></g><g class=\"tick\"><line stroke=\"#eee\" stroke-width=\"1\" x1=\"-4\" x2=\"658.0\" y1=\"212.0000000000000000000000002\" y2=\"212.0000000000000000000000002\"/><text dy=\"0.32em\" fill=\"#9c9c9c\" font-family=\"Monaco\" text-anchor=\"end\" x=\"-8\" y=\"212.0000000000000000000000002\">MO</text></g><g class=\"tick\"><line stroke=\"#eee\" stroke-width=\"1\" x1=\"-4\" x2=\"658.0\" y1=\"196.2962962962962962962962964\" y2=\"196.2962962962962962962962964\"/><text dy=\"0.32em\" fill=\"#9c9c9c\" font-family=\"Monaco\" text-anchor=\"end\" x=\"-8\" y=\"196.2962962962962962962962964\">WA</text></g><g class=\"tick\"><line stroke=\"#eee\" stroke-width=\"1\" x1=\"-4\" x2=\"658.0\" y1=\"180.5925925925925925925925928\" y2=\"180.5925925925925925925925928\"/><text dy=\"0.32em\" fill=\"#9c9c9c\" font-family=\"Monaco\" text-anchor=\"end\" x=\"-8\" y=\"180.5925925925925925925925928\">VA</text></g><g class=\"tick\"><line stroke=\"#eee\" stroke-width=\"1\" x1=\"-4\" x2=\"658.0\" y1=\"164.8888888888888888888888890\" y2=\"164.8888888888888888888888890\"/><text dy=\"0.32em\" fill=\"#9c9c9c\" font-family=\"Monaco\" text-anchor=\"end\" x=\"-8\" y=\"164.8888888888888888888888890\">MA</text></g><g class=\"tick\"><line stroke=\"#eee\" stroke-width=\"1\" x1=\"-4\" x2=\"658.0\" y1=\"149.1851851851851851851851854\" y2=\"149.1851851851851851851851854\"/><text dy=\"0.32em\" fill=\"#9c9c9c\" font-family=\"Monaco\" text-anchor=\"end\" x=\"-8\" y=\"149.1851851851851851851851854\">WI</text></g><g class=\"tick\"><line stroke=\"#eee\" stroke-width=\"1\" x1=\"-4\" x2=\"658.0\" y1=\"133.4814814814814814814814816\" y2=\"133.4814814814814814814814816\"/><text dy=\"0.32em\" fill=\"#9c9c9c\" font-family=\"Monaco\" text-anchor=\"end\" x=\"-8\" y=\"133.4814814814814814814814816\">LA</text></g><g class=\"tick\"><line stroke=\"#eee\" stroke-width=\"1\" x1=\"-4\" x2=\"658.0\" y1=\"117.7777777777777777777777780\" y2=\"117.7777777777777777777777780\"/><text dy=\"0.32em\" fill=\"#9c9c9c\" font-family=\"Monaco\" text-anchor=\"end\" x=\"-8\" y=\"117.7777777777777777777777780\">OH</text></g><g class=\"tick\"><line stroke=\"#eee\" stroke-width=\"1\" x1=\"-4\" x2=\"658.0\" y1=\"102.0740740740740740740740742\" y2=\"102.0740740740740740740740742\"/><text dy=\"0.32em\" fill=\"#9c9c9c\" font-family=\"Monaco\" text-anchor=\"end\" x=\"-8\" y=\"102.0740740740740740740740742\">PA</text></g><g class=\"tick\"><line stroke=\"#eee\" stroke-width=\"1\" x1=\"-4\" x2=\"658.0\" y1=\"86.37037037037037037037037055\" y2=\"86.37037037037037037037037055\"/><text dy=\"0.32em\" fill=\"#9c9c9c\" font-family=\"Monaco\" text-anchor=\"end\" x=\"-8\" y=\"86.37037037037037037037037055\">FL</text></g><g class=\"tick\"><line stroke=\"#eee\" stroke-width=\"1\" x1=\"-4\" x2=\"658.0\" y1=\"70.66666666666666666666666685\" y2=\"70.66666666666666666666666685\"/><text dy=\"0.32em\" fill=\"#9c9c9c\" font-family=\"Monaco\" text-anchor=\"end\" x=\"-8\" y=\"70.66666666666666666666666685\">MI</text></g><g class=\"tick\"><line stroke=\"#eee\" stroke-width=\"1\" x1=\"-4\" x2=\"658.0\" y1=\"54.96296296296296296296296315\" y2=\"54.96296296296296296296296315\"/><text dy=\"0.32em\" fill=\"#9c9c9c\" font-family=\"Monaco\" text-anchor=\"end\" x=\"-8\" y=\"54.96296296296296296296296315\">IL</text></g><g class=\"tick\"><line stroke=\"#eee\" stroke-width=\"1\" x1=\"-4\" x2=\"658.0\" y1=\"39.25925925925925925925925945\" y2=\"39.25925925925925925925925945\"/><text dy=\"0.32em\" fill=\"#9c9c9c\" font-family=\"Monaco\" text-anchor=\"end\" x=\"-8\" y=\"39.25925925925925925925925945\">CA</text></g><g class=\"tick\"><line stroke=\"#eee\" stroke-width=\"1\" x1=\"-4\" x2=\"658.0\" y1=\"23.55555555555555555555555575\" y2=\"23.55555555555555555555555575\"/><text dy=\"0.32em\" fill=\"#9c9c9c\" font-family=\"Monaco\" text-anchor=\"end\" x=\"-8\" y=\"23.55555555555555555555555575\">NY</text></g><g class=\"tick\"><line stroke=\"#eee\" stroke-width=\"1\" x1=\"-4\" x2=\"658.0\" y1=\"7.85185185185185185185185205\" y2=\"7.85185185185185185185185205\"/><text dy=\"0.32em\" fill=\"#9c9c9c\" font-family=\"Monaco\" text-anchor=\"end\" x=\"-8\" y=\"7.85185185185185185185185205\">TX</text></g></g><g><g class=\"series bars\"><rect fill=\"#e41a1c\" height=\"14.1333333333333333333333333\" width=\"2.193333333333333333333333333\" x=\"0\" y=\"833.0814814814814814814814815\"/><rect fill=\"#e41a1c\" height=\"14.1333333333333333333333333\" width=\"2.193333333333333333333333333\" x=\"0\" y=\"817.3777777777777777777777778\"/><rect fill=\"#e41a1c\" height=\"14.1333333333333333333333333\" width=\"2.193333333333333333333333333\" x=\"0\" y=\"801.6740740740740740740740741\"/><rect fill=\"#e41a1c\" height=\"14.1333333333333333333333333\" width=\"2.193333333333333333333333333\" x=\"0\" y=\"785.9703703703703703703703704\"/><rect fill=\"#e41a1c\" height=\"14.1333333333333333333333333\" width=\"4.386666666666666666666666667\" x=\"0\" y=\"770.2666666666666666666666667\"/><rect fill=\"#e41a1c\" height=\"14.1333333333333333333333333\" width=\"4.386666666666666666666666667\" x=\"0\" y=\"754.5629629629629629629629630\"/><rect fill=\"#e41a1c\" height=\"14.1333333333333333333333333\" width=\"6.58\" x=\"0\" y=\"738.8592592592592592592592593\"/><rect fill=\"#e41a1c\" height=\"14.1333333333333333333333333\" width=\"6.58\" x=\"0\" y=\"723.1555555555555555555555556\"/><rect fill=\"#e41a1c\" height=\"14.1333333333333333333333333\" width=\"6.58\" x=\"0\" y=\"707.4518518518518518518518519\"/><rect fill=\"#e41a1c\" height=\"14.1333333333333333333333333\" width=\"6.58\" x=\"0\" y=\"691.7481481481481481481481482\"/><rect fill=\"#e41a1c\" height=\"14.1333333333333333333333333\" width=\"8.773333333333333333333333331\" x=\"0\" y=\"676.0444444444444444444444445\"/><rect fill=\"#e41a1c\" height=\"14.1333333333333333333333333\" width=\"8.773333333333333333333333331\" x=\"0\" y=\"660.3407407407407407407407408\"/><rect fill=\"#e41a1c\" height=\"14.1333333333333333333333333\" width=\"8.773333333333333333333333331\" x=\"0\" y=\"644.6370370370370370370370371\"/><rect fill=\"#e41a1c\" height=\"14.1333333333333333333333333\" width=\"8.773333333333333333333333331\" x=\"0\" y=\"628.9333333333333333333333334\"/><rect fill=\"#e41a1c\" height=\"14.1333333333333333333333333\" width=\"10.96666666666666666666666667\" x=\"0\" y=\"613.2296296296296296296296297\"/><rect fill=\"#e41a1c\" height=\"14.1333333333333333333333333\" width=\"10.96666666666666666666666667\" x=\"0\" y=\"597.5259259259259259259259260\"/><rect fill=\"#e41a1c\" height=\"14.1333333333333333333333333\" width=\"10.96666666666666666666666667\" x=\"0\" y=\"581.8222222222222222222222223\"/><rect fill=\"#e41a1c\" height=\"14.1333333333333333333333333\" width=\"13.16\" x=\"0\" y=\"566.1185185185185185185185186\"/><rect fill=\"#e41a1c\" height=\"14.1333333333333333333333333\" width=\"13.16\" x=\"0\" y=\"550.4148148148148148148148149\"/><rect fill=\"#e41a1c\" height=\"14.1333333333333333333333333\" width=\"13.16\" x=\"0\" y=\"534.7111111111111111111111112\"/><rect fill=\"#e41a1c\" height=\"14.1333333333333333333333333\" width=\"19.74\" x=\"0\" y=\"519.0074074074074074074074075\"/><rect fill=\"#e41a1c\" height=\"14.1333333333333333333333333\" width=\"19.74\" x=\"0\" y=\"503.3037037037037037037037038\"/><rect fill=\"#e41a1c\" height=\"14.1333333333333333333333333\" width=\"19.74\" x=\"0\" y=\"487.6000000000000000000000001\"/><rect fill=\"#e41a1c\" height=\"14.1333333333333333333333333\" width=\"19.74\" x=\"0\" y=\"471.8962962962962962962962964\"/><rect fill=\"#e41a1c\" height=\"14.1333333333333333333333333\" width=\"21.93333333333333333333333333\" x=\"0\" y=\"456.1925925925925925925925927\"/><rect fill=\"#e41a1c\" height=\"14.1333333333333333333333333\" width=\"24.12666666666666666666666667\" x=\"0\" y=\"440.4888888888888888888888890\"/><rect fill=\"#e41a1c\" height=\"14.1333333333333333333333333\" width=\"24.12666666666666666666666667\" x=\"0\" y=\"424.7851851851851851851851853\"/><rect fill=\"#e41a1c\" height=\"14.1333333333333333333333333\" width=\"26.32\" x=\"0\" y=\"409.0814814814814814814814816\"/><rect fill=\"#e41a1c\" height=\"14.1333333333333333333333333\" width=\"32.90\" x=\"0\" y=\"393.3777777777777777777777779\"/><rect fill=\"#e41a1c\" height=\"14.1333333333333333333333333\" width=\"39.48\" x=\"0\" y=\"377.6740740740740740740740742\"/><rect fill=\"#e41a1c\" height=\"14.1333333333333333333333333\" width=\"39.48\" x=\"0\" y=\"361.9703703703703703703703705\"/><rect fill=\"#e41a1c\" height=\"14.1333333333333333333333333\" width=\"39.48\" x=\"0\" y=\"346.2666666666666666666666668\"/><rect fill=\"#e41a1c\" height=\"14.1333333333333333333333333\" width=\"41.67333333333333333333333333\" x=\"0\" y=\"330.5629629629629629629629631\"/><rect fill=\"#e41a1c\" height=\"14.1333333333333333333333333\" width=\"43.86666666666666666666666667\" x=\"0\" y=\"314.8592592592592592592592594\"/><rect fill=\"#e41a1c\" height=\"14.1333333333333333333333333\" width=\"46.06\" x=\"0\" y=\"299.1555555555555555555555557\"/><rect fill=\"#e41a1c\" height=\"14.1333333333333333333333333\" width=\"46.06\" x=\"0\" y=\"283.4518518518518518518518520\"/><rect fill=\"#e41a1c\" height=\"14.1333333333333333333333333\" width=\"50.44666666666666666666666667\" x=\"0\" y=\"267.7481481481481481481481483\"/><rect fill=\"#e41a1c\" height=\"14.1333333333333333333333333\" width=\"57.02666666666666666666666667\" x=\"0\" y=\"252.0444444444444444444444446\"/><rect fill=\"#e41a1c\" height=\"14.1333333333333333333333333\" width=\"61.41333333333333333333333333\" x=\"0\" y=\"236.3407407407407407407407409\"/><rect fill=\"#e41a1c\" height=\"14.1333333333333333333333333\" width=\"74.57333333333333333333333331\" x=\"0\" y=\"220.6370370370370370370370372\"/><rect fill=\"#e41a1c\" height=\"14.1333333333333333333333333\" width=\"81.15333333333333333333333331\" x=\"0\" y=\"204.9333333333333333333333335\"/><rect fill=\"#e41a1c\" height=\"14.1333333333333333333333333\" width=\"83.34666666666666666666666669\" x=\"0\" y=\"189.2296296296296296296296298\"/><rect fill=\"#e41a1c\" height=\"14.1333333333333333333333333\" width=\"89.92666666666666666666666669\" x=\"0\" y=\"173.5259259259259259259259261\"/><rect fill=\"#e41a1c\" height=\"14.1333333333333333333333333\" width=\"96.50666666666666666666666669\" x=\"0\" y=\"157.8222222222222222222222224\"/><rect fill=\"#e41a1c\" height=\"14.1333333333333333333333333\" width=\"103.0866666666666666666666667\" x=\"0\" y=\"142.1185185185185185185185187\"/><rect fill=\"#e41a1c\" height=\"14.1333333333333333333333333\" width=\"111.86\" x=\"0\" y=\"126.4148148148148148148148150\"/><rect fill=\"#e41a1c\" height=\"14.1333333333333333333333333\" width=\"120.6333333333333333333333333\" x=\"0\" y=\"110.7111111111111111111111113\"/><rect fill=\"#e41a1c\" height=\"14.13333333333333333333333332\" width=\"125.02\" x=\"0\" y=\"95.00740740740740740740740758\"/><rect fill=\"#e41a1c\" height=\"14.13333333333333333333333334\" width=\"131.6\" x=\"0\" y=\"79.30370370370370370370370388\"/><rect fill=\"#e41a1c\" height=\"14.13333333333333333333333334\" width=\"138.18\" x=\"0\" y=\"63.60000000000000000000000018\"/><rect fill=\"#e41a1c\" height=\"14.13333333333333333333333334\" width=\"346.5466666666666666666666667\" x=\"0\" y=\"47.89629629629629629629629648\"/><rect fill=\"#e41a1c\" height=\"14.13333333333333333333333334\" width=\"359.7066666666666666666666667\" x=\"0\" y=\"32.19259259259259259259259278\"/><rect fill=\"#e41a1c\" height=\"14.13333333333333333333333334\" width=\"458.4066666666666666666666667\" x=\"0\" y=\"16.48888888888888888888888908\"/><rect fill=\"#e41a1c\" height=\"14.13333333333333333333333334\" width=\"475.9533333333333333333333333\" x=\"0\" y=\"0.785185185185185185185185385\"/></g></g></g></g></g></g></svg>"
      ],
      "text/plain": [
       "<IPython.core.display.SVG object>"
      ]
     },
     "execution_count": 52,
     "metadata": {},
     "output_type": "execute_result"
    }
   ],
   "source": [
    "import leather\n",
    "\n",
    "chart = leather.Chart('Total exonerations by state')\n",
    "chart.add_y_axis(name='State')\n",
    "chart.add_x_axis(name='Number of exonerations')\n",
    "chart.add_bars(sorted_totals, x='count', y='state')\n",
    "chart.to_svg(height=1000)"
   ]
  },
  {
   "cell_type": "markdown",
   "metadata": {
    "collapsed": true
   },
   "source": [
    "Where to go next\n",
    "================\n",
    "\n",
    "This tutorial only scratches the surface of agate's features. For many more ideas on how to apply agate, check out the [`Cookbook`](http://agate.readthedocs.io/en/1.5.6/cookbook.html), which includes dozens of examples of specific features of agate as well as recipes for substituting agate for Excel, SQL, R and more. Also check out the agate's [`Extensions`](http://agate.readthedocs.io/en/1.5.6/extensions.html) which add support for reading/writing SQL tables, performing statistical analysis and more.\n",
    "\n",
    "Also, if you're going to be doing data processing in Python you really ought to check out [`proof`](http://proof.readthedocs.org/en/1.5.6/), a library for building data processing pipelines that are repeatable and self-documenting. It will make your code cleaner and save you tons of time.\n",
    "\n",
    "Good luck in your reporting!"
   ]
  },
  {
   "cell_type": "code",
   "execution_count": null,
   "metadata": {
    "collapsed": true
   },
   "outputs": [],
   "source": []
  }
 ],
 "metadata": {
  "kernelspec": {
   "display_name": "Python 3",
   "language": "python",
   "name": "python3"
  },
  "language_info": {
   "codemirror_mode": {
    "name": "ipython",
    "version": 3
   },
   "file_extension": ".py",
   "mimetype": "text/x-python",
   "name": "python",
   "nbconvert_exporter": "python",
   "pygments_lexer": "ipython3",
   "version": "3.5.0"
  }
 },
 "nbformat": 4,
 "nbformat_minor": 0
}
